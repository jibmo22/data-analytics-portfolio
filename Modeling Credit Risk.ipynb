{
 "cells": [
  {
   "cell_type": "markdown",
   "id": "6e8669d3",
   "metadata": {},
   "source": [
    "# 1. Import libraries and load data"
   ]
  },
  {
   "cell_type": "code",
   "execution_count": 49,
   "id": "1d6b6f7b",
   "metadata": {},
   "outputs": [],
   "source": [
    "import pandas as pd\n",
    "import numpy as np\n",
    "import seaborn as sn\n",
    "import matplotlib.pyplot as plt\n",
    "import matplotlib.ticker as mtick"
   ]
  },
  {
   "cell_type": "code",
   "execution_count": 50,
   "id": "bd9860b9",
   "metadata": {},
   "outputs": [
    {
     "data": {
      "text/html": [
       "<div>\n",
       "<style scoped>\n",
       "    .dataframe tbody tr th:only-of-type {\n",
       "        vertical-align: middle;\n",
       "    }\n",
       "\n",
       "    .dataframe tbody tr th {\n",
       "        vertical-align: top;\n",
       "    }\n",
       "\n",
       "    .dataframe thead th {\n",
       "        text-align: right;\n",
       "    }\n",
       "</style>\n",
       "<table border=\"1\" class=\"dataframe\">\n",
       "  <thead>\n",
       "    <tr style=\"text-align: right;\">\n",
       "      <th></th>\n",
       "      <th>OBS#</th>\n",
       "      <th>CHK_ACCT</th>\n",
       "      <th>DURATION</th>\n",
       "      <th>HISTORY</th>\n",
       "      <th>NEW_CAR</th>\n",
       "      <th>USED_CAR</th>\n",
       "      <th>FURNITURE</th>\n",
       "      <th>RADIOTV</th>\n",
       "      <th>EDUCATION</th>\n",
       "      <th>RETRAINING</th>\n",
       "      <th>...</th>\n",
       "      <th>AGE</th>\n",
       "      <th>OTHER_INSTALL</th>\n",
       "      <th>RENT</th>\n",
       "      <th>OWN_RES</th>\n",
       "      <th>NUM_CREDITS</th>\n",
       "      <th>JOB</th>\n",
       "      <th>NUM_DEPENDENTS</th>\n",
       "      <th>TELEPHONE</th>\n",
       "      <th>FOREIGN</th>\n",
       "      <th>RESPONSE</th>\n",
       "    </tr>\n",
       "  </thead>\n",
       "  <tbody>\n",
       "    <tr>\n",
       "      <th>0</th>\n",
       "      <td>1</td>\n",
       "      <td>0</td>\n",
       "      <td>6</td>\n",
       "      <td>4</td>\n",
       "      <td>0</td>\n",
       "      <td>0</td>\n",
       "      <td>0</td>\n",
       "      <td>1</td>\n",
       "      <td>0</td>\n",
       "      <td>0</td>\n",
       "      <td>...</td>\n",
       "      <td>67</td>\n",
       "      <td>0</td>\n",
       "      <td>0</td>\n",
       "      <td>1</td>\n",
       "      <td>2</td>\n",
       "      <td>2</td>\n",
       "      <td>1</td>\n",
       "      <td>1</td>\n",
       "      <td>0</td>\n",
       "      <td>1</td>\n",
       "    </tr>\n",
       "    <tr>\n",
       "      <th>1</th>\n",
       "      <td>2</td>\n",
       "      <td>1</td>\n",
       "      <td>48</td>\n",
       "      <td>2</td>\n",
       "      <td>0</td>\n",
       "      <td>0</td>\n",
       "      <td>0</td>\n",
       "      <td>1</td>\n",
       "      <td>0</td>\n",
       "      <td>0</td>\n",
       "      <td>...</td>\n",
       "      <td>22</td>\n",
       "      <td>0</td>\n",
       "      <td>0</td>\n",
       "      <td>1</td>\n",
       "      <td>1</td>\n",
       "      <td>2</td>\n",
       "      <td>1</td>\n",
       "      <td>0</td>\n",
       "      <td>0</td>\n",
       "      <td>0</td>\n",
       "    </tr>\n",
       "    <tr>\n",
       "      <th>2</th>\n",
       "      <td>3</td>\n",
       "      <td>3</td>\n",
       "      <td>12</td>\n",
       "      <td>4</td>\n",
       "      <td>0</td>\n",
       "      <td>0</td>\n",
       "      <td>0</td>\n",
       "      <td>0</td>\n",
       "      <td>1</td>\n",
       "      <td>0</td>\n",
       "      <td>...</td>\n",
       "      <td>49</td>\n",
       "      <td>0</td>\n",
       "      <td>0</td>\n",
       "      <td>1</td>\n",
       "      <td>1</td>\n",
       "      <td>1</td>\n",
       "      <td>2</td>\n",
       "      <td>0</td>\n",
       "      <td>0</td>\n",
       "      <td>1</td>\n",
       "    </tr>\n",
       "    <tr>\n",
       "      <th>3</th>\n",
       "      <td>4</td>\n",
       "      <td>0</td>\n",
       "      <td>42</td>\n",
       "      <td>2</td>\n",
       "      <td>0</td>\n",
       "      <td>0</td>\n",
       "      <td>1</td>\n",
       "      <td>0</td>\n",
       "      <td>0</td>\n",
       "      <td>0</td>\n",
       "      <td>...</td>\n",
       "      <td>45</td>\n",
       "      <td>0</td>\n",
       "      <td>0</td>\n",
       "      <td>0</td>\n",
       "      <td>1</td>\n",
       "      <td>2</td>\n",
       "      <td>2</td>\n",
       "      <td>0</td>\n",
       "      <td>0</td>\n",
       "      <td>1</td>\n",
       "    </tr>\n",
       "    <tr>\n",
       "      <th>4</th>\n",
       "      <td>5</td>\n",
       "      <td>0</td>\n",
       "      <td>24</td>\n",
       "      <td>3</td>\n",
       "      <td>1</td>\n",
       "      <td>0</td>\n",
       "      <td>0</td>\n",
       "      <td>0</td>\n",
       "      <td>0</td>\n",
       "      <td>0</td>\n",
       "      <td>...</td>\n",
       "      <td>53</td>\n",
       "      <td>0</td>\n",
       "      <td>0</td>\n",
       "      <td>0</td>\n",
       "      <td>2</td>\n",
       "      <td>2</td>\n",
       "      <td>2</td>\n",
       "      <td>0</td>\n",
       "      <td>0</td>\n",
       "      <td>0</td>\n",
       "    </tr>\n",
       "  </tbody>\n",
       "</table>\n",
       "<p>5 rows × 32 columns</p>\n",
       "</div>"
      ],
      "text/plain": [
       "   OBS#  CHK_ACCT  DURATION  HISTORY  NEW_CAR  USED_CAR  FURNITURE  RADIOTV  \\\n",
       "0     1         0         6        4        0         0          0        1   \n",
       "1     2         1        48        2        0         0          0        1   \n",
       "2     3         3        12        4        0         0          0        0   \n",
       "3     4         0        42        2        0         0          1        0   \n",
       "4     5         0        24        3        1         0          0        0   \n",
       "\n",
       "   EDUCATION  RETRAINING  ...  AGE  OTHER_INSTALL  RENT  OWN_RES  NUM_CREDITS  \\\n",
       "0          0           0  ...   67              0     0        1            2   \n",
       "1          0           0  ...   22              0     0        1            1   \n",
       "2          1           0  ...   49              0     0        1            1   \n",
       "3          0           0  ...   45              0     0        0            1   \n",
       "4          0           0  ...   53              0     0        0            2   \n",
       "\n",
       "   JOB  NUM_DEPENDENTS  TELEPHONE  FOREIGN  RESPONSE  \n",
       "0    2               1          1        0         1  \n",
       "1    2               1          0        0         0  \n",
       "2    1               2          0        0         1  \n",
       "3    2               2          0        0         1  \n",
       "4    2               2          0        0         0  \n",
       "\n",
       "[5 rows x 32 columns]"
      ]
     },
     "execution_count": 50,
     "metadata": {},
     "output_type": "execute_result"
    }
   ],
   "source": [
    "#loading dataset\n",
    "#Visualizing first 5 rows of the dataset\n",
    "\n",
    "df = pd.read_csv('credit.csv')\n",
    "df.head()"
   ]
  },
  {
   "cell_type": "markdown",
   "id": "dffd599c",
   "metadata": {},
   "source": [
    "# 2. Explore data and run EDA"
   ]
  },
  {
   "cell_type": "code",
   "execution_count": 51,
   "id": "a79f743e",
   "metadata": {},
   "outputs": [
    {
     "data": {
      "text/plain": [
       "(1000, 32)"
      ]
     },
     "execution_count": 51,
     "metadata": {},
     "output_type": "execute_result"
    }
   ],
   "source": [
    "#exploring the shape of the dataset\n",
    "df.shape\n",
    "# the dataset has 1000 rows and 32 columns"
   ]
  },
  {
   "cell_type": "code",
   "execution_count": 52,
   "id": "03bf712a",
   "metadata": {},
   "outputs": [
    {
     "name": "stdout",
     "output_type": "stream",
     "text": [
      "<class 'pandas.core.frame.DataFrame'>\n",
      "RangeIndex: 1000 entries, 0 to 999\n",
      "Data columns (total 32 columns):\n",
      " #   Column            Non-Null Count  Dtype\n",
      "---  ------            --------------  -----\n",
      " 0   OBS#              1000 non-null   int64\n",
      " 1   CHK_ACCT          1000 non-null   int64\n",
      " 2   DURATION          1000 non-null   int64\n",
      " 3   HISTORY           1000 non-null   int64\n",
      " 4   NEW_CAR           1000 non-null   int64\n",
      " 5   USED_CAR          1000 non-null   int64\n",
      " 6   FURNITURE         1000 non-null   int64\n",
      " 7   RADIOTV           1000 non-null   int64\n",
      " 8   EDUCATION         1000 non-null   int64\n",
      " 9   RETRAINING        1000 non-null   int64\n",
      " 10  AMOUNT            1000 non-null   int64\n",
      " 11  SAV_ACCT          1000 non-null   int64\n",
      " 12  EMPLOYMENT        1000 non-null   int64\n",
      " 13  INSTALL_RATE      1000 non-null   int64\n",
      " 14  MALE_DIV          1000 non-null   int64\n",
      " 15  MALE_SINGLE       1000 non-null   int64\n",
      " 16  MALE_MAR_or_WID   1000 non-null   int64\n",
      " 17  COAPPLICANT       1000 non-null   int64\n",
      " 18  GUARANTOR         1000 non-null   int64\n",
      " 19  PRESENT_RESIDENT  1000 non-null   int64\n",
      " 20  REAL_ESTATE       1000 non-null   int64\n",
      " 21  PROP_UNKN_NONE    1000 non-null   int64\n",
      " 22  AGE               1000 non-null   int64\n",
      " 23  OTHER_INSTALL     1000 non-null   int64\n",
      " 24  RENT              1000 non-null   int64\n",
      " 25  OWN_RES           1000 non-null   int64\n",
      " 26  NUM_CREDITS       1000 non-null   int64\n",
      " 27  JOB               1000 non-null   int64\n",
      " 28  NUM_DEPENDENTS    1000 non-null   int64\n",
      " 29  TELEPHONE         1000 non-null   int64\n",
      " 30  FOREIGN           1000 non-null   int64\n",
      " 31  RESPONSE          1000 non-null   int64\n",
      "dtypes: int64(32)\n",
      "memory usage: 250.1 KB\n"
     ]
    }
   ],
   "source": [
    "#exploring possible missing values\n",
    "#exploring also datatypes\n",
    "df.info()"
   ]
  },
  {
   "cell_type": "code",
   "execution_count": 53,
   "id": "e1a9cecb",
   "metadata": {},
   "outputs": [
    {
     "data": {
      "text/html": [
       "<div>\n",
       "<style scoped>\n",
       "    .dataframe tbody tr th:only-of-type {\n",
       "        vertical-align: middle;\n",
       "    }\n",
       "\n",
       "    .dataframe tbody tr th {\n",
       "        vertical-align: top;\n",
       "    }\n",
       "\n",
       "    .dataframe thead th {\n",
       "        text-align: right;\n",
       "    }\n",
       "</style>\n",
       "<table border=\"1\" class=\"dataframe\">\n",
       "  <thead>\n",
       "    <tr style=\"text-align: right;\">\n",
       "      <th></th>\n",
       "      <th>count</th>\n",
       "      <th>mean</th>\n",
       "      <th>std</th>\n",
       "      <th>min</th>\n",
       "      <th>25%</th>\n",
       "      <th>50%</th>\n",
       "      <th>75%</th>\n",
       "      <th>max</th>\n",
       "    </tr>\n",
       "  </thead>\n",
       "  <tbody>\n",
       "    <tr>\n",
       "      <th>OBS#</th>\n",
       "      <td>1000.0</td>\n",
       "      <td>500.500</td>\n",
       "      <td>288.819436</td>\n",
       "      <td>1.0</td>\n",
       "      <td>250.75</td>\n",
       "      <td>500.5</td>\n",
       "      <td>750.25</td>\n",
       "      <td>1000.0</td>\n",
       "    </tr>\n",
       "    <tr>\n",
       "      <th>CHK_ACCT</th>\n",
       "      <td>1000.0</td>\n",
       "      <td>1.577</td>\n",
       "      <td>1.257638</td>\n",
       "      <td>0.0</td>\n",
       "      <td>0.00</td>\n",
       "      <td>1.0</td>\n",
       "      <td>3.00</td>\n",
       "      <td>3.0</td>\n",
       "    </tr>\n",
       "    <tr>\n",
       "      <th>DURATION</th>\n",
       "      <td>1000.0</td>\n",
       "      <td>20.903</td>\n",
       "      <td>12.058814</td>\n",
       "      <td>4.0</td>\n",
       "      <td>12.00</td>\n",
       "      <td>18.0</td>\n",
       "      <td>24.00</td>\n",
       "      <td>72.0</td>\n",
       "    </tr>\n",
       "    <tr>\n",
       "      <th>HISTORY</th>\n",
       "      <td>1000.0</td>\n",
       "      <td>2.545</td>\n",
       "      <td>1.083120</td>\n",
       "      <td>0.0</td>\n",
       "      <td>2.00</td>\n",
       "      <td>2.0</td>\n",
       "      <td>4.00</td>\n",
       "      <td>4.0</td>\n",
       "    </tr>\n",
       "    <tr>\n",
       "      <th>NEW_CAR</th>\n",
       "      <td>1000.0</td>\n",
       "      <td>0.234</td>\n",
       "      <td>0.423584</td>\n",
       "      <td>0.0</td>\n",
       "      <td>0.00</td>\n",
       "      <td>0.0</td>\n",
       "      <td>0.00</td>\n",
       "      <td>1.0</td>\n",
       "    </tr>\n",
       "    <tr>\n",
       "      <th>USED_CAR</th>\n",
       "      <td>1000.0</td>\n",
       "      <td>0.103</td>\n",
       "      <td>0.304111</td>\n",
       "      <td>0.0</td>\n",
       "      <td>0.00</td>\n",
       "      <td>0.0</td>\n",
       "      <td>0.00</td>\n",
       "      <td>1.0</td>\n",
       "    </tr>\n",
       "    <tr>\n",
       "      <th>FURNITURE</th>\n",
       "      <td>1000.0</td>\n",
       "      <td>0.181</td>\n",
       "      <td>0.385211</td>\n",
       "      <td>0.0</td>\n",
       "      <td>0.00</td>\n",
       "      <td>0.0</td>\n",
       "      <td>0.00</td>\n",
       "      <td>1.0</td>\n",
       "    </tr>\n",
       "    <tr>\n",
       "      <th>RADIOTV</th>\n",
       "      <td>1000.0</td>\n",
       "      <td>0.280</td>\n",
       "      <td>0.449224</td>\n",
       "      <td>0.0</td>\n",
       "      <td>0.00</td>\n",
       "      <td>0.0</td>\n",
       "      <td>1.00</td>\n",
       "      <td>1.0</td>\n",
       "    </tr>\n",
       "    <tr>\n",
       "      <th>EDUCATION</th>\n",
       "      <td>1000.0</td>\n",
       "      <td>0.050</td>\n",
       "      <td>0.218054</td>\n",
       "      <td>0.0</td>\n",
       "      <td>0.00</td>\n",
       "      <td>0.0</td>\n",
       "      <td>0.00</td>\n",
       "      <td>1.0</td>\n",
       "    </tr>\n",
       "    <tr>\n",
       "      <th>RETRAINING</th>\n",
       "      <td>1000.0</td>\n",
       "      <td>0.097</td>\n",
       "      <td>0.296106</td>\n",
       "      <td>0.0</td>\n",
       "      <td>0.00</td>\n",
       "      <td>0.0</td>\n",
       "      <td>0.00</td>\n",
       "      <td>1.0</td>\n",
       "    </tr>\n",
       "    <tr>\n",
       "      <th>AMOUNT</th>\n",
       "      <td>1000.0</td>\n",
       "      <td>3271.258</td>\n",
       "      <td>2822.736876</td>\n",
       "      <td>250.0</td>\n",
       "      <td>1365.50</td>\n",
       "      <td>2319.5</td>\n",
       "      <td>3972.25</td>\n",
       "      <td>18424.0</td>\n",
       "    </tr>\n",
       "    <tr>\n",
       "      <th>SAV_ACCT</th>\n",
       "      <td>1000.0</td>\n",
       "      <td>1.105</td>\n",
       "      <td>1.580023</td>\n",
       "      <td>0.0</td>\n",
       "      <td>0.00</td>\n",
       "      <td>0.0</td>\n",
       "      <td>2.00</td>\n",
       "      <td>4.0</td>\n",
       "    </tr>\n",
       "    <tr>\n",
       "      <th>EMPLOYMENT</th>\n",
       "      <td>1000.0</td>\n",
       "      <td>2.384</td>\n",
       "      <td>1.208306</td>\n",
       "      <td>0.0</td>\n",
       "      <td>2.00</td>\n",
       "      <td>2.0</td>\n",
       "      <td>4.00</td>\n",
       "      <td>4.0</td>\n",
       "    </tr>\n",
       "    <tr>\n",
       "      <th>INSTALL_RATE</th>\n",
       "      <td>1000.0</td>\n",
       "      <td>2.973</td>\n",
       "      <td>1.118715</td>\n",
       "      <td>1.0</td>\n",
       "      <td>2.00</td>\n",
       "      <td>3.0</td>\n",
       "      <td>4.00</td>\n",
       "      <td>4.0</td>\n",
       "    </tr>\n",
       "    <tr>\n",
       "      <th>MALE_DIV</th>\n",
       "      <td>1000.0</td>\n",
       "      <td>0.050</td>\n",
       "      <td>0.218054</td>\n",
       "      <td>0.0</td>\n",
       "      <td>0.00</td>\n",
       "      <td>0.0</td>\n",
       "      <td>0.00</td>\n",
       "      <td>1.0</td>\n",
       "    </tr>\n",
       "    <tr>\n",
       "      <th>MALE_SINGLE</th>\n",
       "      <td>1000.0</td>\n",
       "      <td>0.548</td>\n",
       "      <td>0.497940</td>\n",
       "      <td>0.0</td>\n",
       "      <td>0.00</td>\n",
       "      <td>1.0</td>\n",
       "      <td>1.00</td>\n",
       "      <td>1.0</td>\n",
       "    </tr>\n",
       "    <tr>\n",
       "      <th>MALE_MAR_or_WID</th>\n",
       "      <td>1000.0</td>\n",
       "      <td>0.092</td>\n",
       "      <td>0.289171</td>\n",
       "      <td>0.0</td>\n",
       "      <td>0.00</td>\n",
       "      <td>0.0</td>\n",
       "      <td>0.00</td>\n",
       "      <td>1.0</td>\n",
       "    </tr>\n",
       "    <tr>\n",
       "      <th>COAPPLICANT</th>\n",
       "      <td>1000.0</td>\n",
       "      <td>0.041</td>\n",
       "      <td>0.198389</td>\n",
       "      <td>0.0</td>\n",
       "      <td>0.00</td>\n",
       "      <td>0.0</td>\n",
       "      <td>0.00</td>\n",
       "      <td>1.0</td>\n",
       "    </tr>\n",
       "    <tr>\n",
       "      <th>GUARANTOR</th>\n",
       "      <td>1000.0</td>\n",
       "      <td>0.052</td>\n",
       "      <td>0.222138</td>\n",
       "      <td>0.0</td>\n",
       "      <td>0.00</td>\n",
       "      <td>0.0</td>\n",
       "      <td>0.00</td>\n",
       "      <td>1.0</td>\n",
       "    </tr>\n",
       "    <tr>\n",
       "      <th>PRESENT_RESIDENT</th>\n",
       "      <td>1000.0</td>\n",
       "      <td>2.845</td>\n",
       "      <td>1.103718</td>\n",
       "      <td>1.0</td>\n",
       "      <td>2.00</td>\n",
       "      <td>3.0</td>\n",
       "      <td>4.00</td>\n",
       "      <td>4.0</td>\n",
       "    </tr>\n",
       "    <tr>\n",
       "      <th>REAL_ESTATE</th>\n",
       "      <td>1000.0</td>\n",
       "      <td>0.282</td>\n",
       "      <td>0.450198</td>\n",
       "      <td>0.0</td>\n",
       "      <td>0.00</td>\n",
       "      <td>0.0</td>\n",
       "      <td>1.00</td>\n",
       "      <td>1.0</td>\n",
       "    </tr>\n",
       "    <tr>\n",
       "      <th>PROP_UNKN_NONE</th>\n",
       "      <td>1000.0</td>\n",
       "      <td>0.154</td>\n",
       "      <td>0.361129</td>\n",
       "      <td>0.0</td>\n",
       "      <td>0.00</td>\n",
       "      <td>0.0</td>\n",
       "      <td>0.00</td>\n",
       "      <td>1.0</td>\n",
       "    </tr>\n",
       "    <tr>\n",
       "      <th>AGE</th>\n",
       "      <td>1000.0</td>\n",
       "      <td>35.546</td>\n",
       "      <td>11.375469</td>\n",
       "      <td>19.0</td>\n",
       "      <td>27.00</td>\n",
       "      <td>33.0</td>\n",
       "      <td>42.00</td>\n",
       "      <td>75.0</td>\n",
       "    </tr>\n",
       "    <tr>\n",
       "      <th>OTHER_INSTALL</th>\n",
       "      <td>1000.0</td>\n",
       "      <td>0.186</td>\n",
       "      <td>0.389301</td>\n",
       "      <td>0.0</td>\n",
       "      <td>0.00</td>\n",
       "      <td>0.0</td>\n",
       "      <td>0.00</td>\n",
       "      <td>1.0</td>\n",
       "    </tr>\n",
       "    <tr>\n",
       "      <th>RENT</th>\n",
       "      <td>1000.0</td>\n",
       "      <td>0.179</td>\n",
       "      <td>0.383544</td>\n",
       "      <td>0.0</td>\n",
       "      <td>0.00</td>\n",
       "      <td>0.0</td>\n",
       "      <td>0.00</td>\n",
       "      <td>1.0</td>\n",
       "    </tr>\n",
       "    <tr>\n",
       "      <th>OWN_RES</th>\n",
       "      <td>1000.0</td>\n",
       "      <td>0.713</td>\n",
       "      <td>0.452588</td>\n",
       "      <td>0.0</td>\n",
       "      <td>0.00</td>\n",
       "      <td>1.0</td>\n",
       "      <td>1.00</td>\n",
       "      <td>1.0</td>\n",
       "    </tr>\n",
       "    <tr>\n",
       "      <th>NUM_CREDITS</th>\n",
       "      <td>1000.0</td>\n",
       "      <td>1.407</td>\n",
       "      <td>0.577654</td>\n",
       "      <td>1.0</td>\n",
       "      <td>1.00</td>\n",
       "      <td>1.0</td>\n",
       "      <td>2.00</td>\n",
       "      <td>4.0</td>\n",
       "    </tr>\n",
       "    <tr>\n",
       "      <th>JOB</th>\n",
       "      <td>1000.0</td>\n",
       "      <td>1.904</td>\n",
       "      <td>0.653614</td>\n",
       "      <td>0.0</td>\n",
       "      <td>2.00</td>\n",
       "      <td>2.0</td>\n",
       "      <td>2.00</td>\n",
       "      <td>3.0</td>\n",
       "    </tr>\n",
       "    <tr>\n",
       "      <th>NUM_DEPENDENTS</th>\n",
       "      <td>1000.0</td>\n",
       "      <td>1.155</td>\n",
       "      <td>0.362086</td>\n",
       "      <td>1.0</td>\n",
       "      <td>1.00</td>\n",
       "      <td>1.0</td>\n",
       "      <td>1.00</td>\n",
       "      <td>2.0</td>\n",
       "    </tr>\n",
       "    <tr>\n",
       "      <th>TELEPHONE</th>\n",
       "      <td>1000.0</td>\n",
       "      <td>0.404</td>\n",
       "      <td>0.490943</td>\n",
       "      <td>0.0</td>\n",
       "      <td>0.00</td>\n",
       "      <td>0.0</td>\n",
       "      <td>1.00</td>\n",
       "      <td>1.0</td>\n",
       "    </tr>\n",
       "    <tr>\n",
       "      <th>FOREIGN</th>\n",
       "      <td>1000.0</td>\n",
       "      <td>0.037</td>\n",
       "      <td>0.188856</td>\n",
       "      <td>0.0</td>\n",
       "      <td>0.00</td>\n",
       "      <td>0.0</td>\n",
       "      <td>0.00</td>\n",
       "      <td>1.0</td>\n",
       "    </tr>\n",
       "    <tr>\n",
       "      <th>RESPONSE</th>\n",
       "      <td>1000.0</td>\n",
       "      <td>0.700</td>\n",
       "      <td>0.458487</td>\n",
       "      <td>0.0</td>\n",
       "      <td>0.00</td>\n",
       "      <td>1.0</td>\n",
       "      <td>1.00</td>\n",
       "      <td>1.0</td>\n",
       "    </tr>\n",
       "  </tbody>\n",
       "</table>\n",
       "</div>"
      ],
      "text/plain": [
       "                   count      mean          std    min      25%     50%  \\\n",
       "OBS#              1000.0   500.500   288.819436    1.0   250.75   500.5   \n",
       "CHK_ACCT          1000.0     1.577     1.257638    0.0     0.00     1.0   \n",
       "DURATION          1000.0    20.903    12.058814    4.0    12.00    18.0   \n",
       "HISTORY           1000.0     2.545     1.083120    0.0     2.00     2.0   \n",
       "NEW_CAR           1000.0     0.234     0.423584    0.0     0.00     0.0   \n",
       "USED_CAR          1000.0     0.103     0.304111    0.0     0.00     0.0   \n",
       "FURNITURE         1000.0     0.181     0.385211    0.0     0.00     0.0   \n",
       "RADIOTV           1000.0     0.280     0.449224    0.0     0.00     0.0   \n",
       "EDUCATION         1000.0     0.050     0.218054    0.0     0.00     0.0   \n",
       "RETRAINING        1000.0     0.097     0.296106    0.0     0.00     0.0   \n",
       "AMOUNT            1000.0  3271.258  2822.736876  250.0  1365.50  2319.5   \n",
       "SAV_ACCT          1000.0     1.105     1.580023    0.0     0.00     0.0   \n",
       "EMPLOYMENT        1000.0     2.384     1.208306    0.0     2.00     2.0   \n",
       "INSTALL_RATE      1000.0     2.973     1.118715    1.0     2.00     3.0   \n",
       "MALE_DIV          1000.0     0.050     0.218054    0.0     0.00     0.0   \n",
       "MALE_SINGLE       1000.0     0.548     0.497940    0.0     0.00     1.0   \n",
       "MALE_MAR_or_WID   1000.0     0.092     0.289171    0.0     0.00     0.0   \n",
       "COAPPLICANT       1000.0     0.041     0.198389    0.0     0.00     0.0   \n",
       "GUARANTOR         1000.0     0.052     0.222138    0.0     0.00     0.0   \n",
       "PRESENT_RESIDENT  1000.0     2.845     1.103718    1.0     2.00     3.0   \n",
       "REAL_ESTATE       1000.0     0.282     0.450198    0.0     0.00     0.0   \n",
       "PROP_UNKN_NONE    1000.0     0.154     0.361129    0.0     0.00     0.0   \n",
       "AGE               1000.0    35.546    11.375469   19.0    27.00    33.0   \n",
       "OTHER_INSTALL     1000.0     0.186     0.389301    0.0     0.00     0.0   \n",
       "RENT              1000.0     0.179     0.383544    0.0     0.00     0.0   \n",
       "OWN_RES           1000.0     0.713     0.452588    0.0     0.00     1.0   \n",
       "NUM_CREDITS       1000.0     1.407     0.577654    1.0     1.00     1.0   \n",
       "JOB               1000.0     1.904     0.653614    0.0     2.00     2.0   \n",
       "NUM_DEPENDENTS    1000.0     1.155     0.362086    1.0     1.00     1.0   \n",
       "TELEPHONE         1000.0     0.404     0.490943    0.0     0.00     0.0   \n",
       "FOREIGN           1000.0     0.037     0.188856    0.0     0.00     0.0   \n",
       "RESPONSE          1000.0     0.700     0.458487    0.0     0.00     1.0   \n",
       "\n",
       "                      75%      max  \n",
       "OBS#               750.25   1000.0  \n",
       "CHK_ACCT             3.00      3.0  \n",
       "DURATION            24.00     72.0  \n",
       "HISTORY              4.00      4.0  \n",
       "NEW_CAR              0.00      1.0  \n",
       "USED_CAR             0.00      1.0  \n",
       "FURNITURE            0.00      1.0  \n",
       "RADIOTV              1.00      1.0  \n",
       "EDUCATION            0.00      1.0  \n",
       "RETRAINING           0.00      1.0  \n",
       "AMOUNT            3972.25  18424.0  \n",
       "SAV_ACCT             2.00      4.0  \n",
       "EMPLOYMENT           4.00      4.0  \n",
       "INSTALL_RATE         4.00      4.0  \n",
       "MALE_DIV             0.00      1.0  \n",
       "MALE_SINGLE          1.00      1.0  \n",
       "MALE_MAR_or_WID      0.00      1.0  \n",
       "COAPPLICANT          0.00      1.0  \n",
       "GUARANTOR            0.00      1.0  \n",
       "PRESENT_RESIDENT     4.00      4.0  \n",
       "REAL_ESTATE          1.00      1.0  \n",
       "PROP_UNKN_NONE       0.00      1.0  \n",
       "AGE                 42.00     75.0  \n",
       "OTHER_INSTALL        0.00      1.0  \n",
       "RENT                 0.00      1.0  \n",
       "OWN_RES              1.00      1.0  \n",
       "NUM_CREDITS          2.00      4.0  \n",
       "JOB                  2.00      3.0  \n",
       "NUM_DEPENDENTS       1.00      2.0  \n",
       "TELEPHONE            1.00      1.0  \n",
       "FOREIGN              0.00      1.0  \n",
       "RESPONSE             1.00      1.0  "
      ]
     },
     "execution_count": 53,
     "metadata": {},
     "output_type": "execute_result"
    }
   ],
   "source": [
    "#provide basic statistics summary for all numerical variables\n",
    "df.describe().transpose()"
   ]
  },
  {
   "cell_type": "code",
   "execution_count": 54,
   "id": "769882c1",
   "metadata": {},
   "outputs": [],
   "source": [
    "#change column names into lower case\n",
    "df = df.rename(columns=str.lower)"
   ]
  },
  {
   "cell_type": "markdown",
   "id": "3ce557f5",
   "metadata": {},
   "source": [
    "# 3. Visualizing the data"
   ]
  },
  {
   "cell_type": "code",
   "execution_count": 55,
   "id": "5fc6e677",
   "metadata": {},
   "outputs": [
    {
     "data": {
      "text/plain": [
       "<AxesSubplot:>"
      ]
     },
     "execution_count": 55,
     "metadata": {},
     "output_type": "execute_result"
    },
    {
     "data": {
      "image/png": "[encoded data removed]",
      "text/plain": [
       "<Figure size 432x288 with 2 Axes>"
      ]
     },
     "metadata": {
      "needs_background": "light"
     },
     "output_type": "display_data"
    }
   ],
   "source": [
    "#explore correlation between different variables using a heatmap\n",
    "correlation_heat_map = sn.heatmap(df.corr(), cmap = \"YlGnBu\")\n",
    "correlation_heat_map"
   ]
  },
  {
   "cell_type": "code",
   "execution_count": 56,
   "id": "fb48ba94",
   "metadata": {},
   "outputs": [
    {
     "data": {
      "text/plain": [
       "<AxesSubplot:title={'center':'Credit types of customer'}, xlabel='Credit type', ylabel='Count'>"
      ]
     },
     "execution_count": 56,
     "metadata": {},
     "output_type": "execute_result"
    },
    {
     "data": {
      "image/png": "[encoded data removed]",
      "text/plain": [
       "<Figure size 432x288 with 1 Axes>"
      ]
     },
     "metadata": {
      "needs_background": "light"
     },
     "output_type": "display_data"
    }
   ],
   "source": [
    "#visualize count of customers with good vs bad credit \n",
    "credit_type = df['response'].value_counts().plot(kind='bar')\n",
    "credit_type.set_xlabel('Credit type')\n",
    "credit_type.set_ylabel('Count')\n",
    "credit_type.set_title('Credit types of customer')\n",
    "credit_type"
   ]
  },
  {
   "cell_type": "code",
   "execution_count": 57,
   "id": "29673b31",
   "metadata": {},
   "outputs": [
    {
     "data": {
      "image/png": "[encoded data removed]",
      "text/plain": [
       "<Figure size 432x288 with 1 Axes>"
      ]
     },
     "metadata": {
      "needs_background": "light"
     },
     "output_type": "display_data"
    }
   ],
   "source": [
    "#visualize customers based on their credit history and credit type\n",
    "rh = df.groupby(['response','history']).size().unstack().plot(kind='bar',stacked=False)\n",
    "rh.set_xlabel('Credit type')\n",
    "rh.set_ylabel('Count')\n",
    "rh.set_title('Credit type in relation to credit history')\n",
    "plt.show()"
   ]
  },
  {
   "cell_type": "code",
   "execution_count": 58,
   "id": "5a548e51",
   "metadata": {},
   "outputs": [
    {
     "data": {
      "image/png": "[encoded data removed]",
      "text/plain": [
       "<Figure size 432x288 with 1 Axes>"
      ]
     },
     "metadata": {
      "needs_background": "light"
     },
     "output_type": "display_data"
    }
   ],
   "source": [
    "#visualize customers based on their employment status and credit type\n",
    "jr = df.groupby(['job','response']).size().unstack().plot(kind='bar',stacked=False)\n",
    "jr.set_xlabel('Employment status')\n",
    "jr.set_ylabel('Count')\n",
    "jr.set_title('Employment status in relation to credit type')\n",
    "plt.show()"
   ]
  },
  {
   "cell_type": "code",
   "execution_count": 59,
   "id": "6b81bc78",
   "metadata": {},
   "outputs": [
    {
     "data": {
      "image/png": "[encoded data removed]",
      "text/plain": [
       "<Figure size 432x288 with 1 Axes>"
      ]
     },
     "metadata": {
      "needs_background": "light"
     },
     "output_type": "display_data"
    }
   ],
   "source": [
    "#visualize customers credit type, normalized\n",
    "ct = df['response'].value_counts(normalize = True).plot(kind='barh')\n",
    "ct.set_ylabel('Credit type')\n",
    "ct.set_xlabel('Proportion')\n",
    "ct.set_title('Credit types of customer (%)')\n",
    "plt.show()\n"
   ]
  },
  {
   "cell_type": "code",
   "execution_count": 60,
   "id": "f0d1ec82",
   "metadata": {},
   "outputs": [
    {
     "data": {
      "image/png": "[encoded data removed]",
      "text/plain": [
       "<Figure size 432x288 with 1 Axes>"
      ]
     },
     "metadata": {
      "needs_background": "light"
     },
     "output_type": "display_data"
    }
   ],
   "source": [
    "#visualize customers based on their credit history and credity type, normalized\n",
    "n1 = df.groupby(['response','history']).size().groupby(level=0).apply(\n",
    "    lambda x: 100 * x / x.sum()\n",
    ").unstack().plot(kind='bar',stacked=True)\n",
    "n1.set_title('Credit type in relation to credit history (%)')\n",
    "plt.ylabel('Proportion')\n",
    "plt.gca().yaxis.set_major_formatter(mtick.PercentFormatter())\n",
    "plt.show()"
   ]
  },
  {
   "cell_type": "markdown",
   "id": "e9a822de",
   "metadata": {},
   "source": [
    "# 4. Creating the decision tree algorithm"
   ]
  },
  {
   "cell_type": "code",
   "execution_count": 61,
   "id": "49817555",
   "metadata": {},
   "outputs": [],
   "source": [
    "#import necessary for the decision tree algorithms\n",
    "#sklearn for modeling\n",
    "from sklearn import tree\n",
    "from sklearn.tree import DecisionTreeClassifier #Decision Tree algorithm\n",
    "from sklearn.model_selection import train_test_split #Data split function\n",
    "from sklearn.preprocessing import LabelEncoder #OneHotEncoding\n",
    "from sklearn.metrics import classification_report \n",
    "from sklearn.metrics import accuracy_score\n",
    "from sklearn.metrics import confusion_matrix\n",
    "from sklearn.metrics import roc_curve, auc"
   ]
  },
  {
   "cell_type": "code",
   "execution_count": 62,
   "id": "46f01d86",
   "metadata": {},
   "outputs": [],
   "source": [
    "#split and preprocess the data into feature matrix x and y\n",
    "X, y = df.loc[:, df.columns != 'response'], df['response'] #define feature matrix X and labels y\n",
    "X_train, X_test, y_train, y_test = train_test_split(X, y, test_size = 0.3, random_state = 1234) #split data 70:30"
   ]
  },
  {
   "cell_type": "code",
   "execution_count": 63,
   "id": "897d4e49",
   "metadata": {},
   "outputs": [
    {
     "data": {
      "image/png": "[encoded data removed]",
      "text/plain": [
       "<Figure size 432x288 with 1 Axes>"
      ]
     },
     "metadata": {
      "needs_background": "light"
     },
     "output_type": "display_data"
    }
   ],
   "source": [
    "#visualize splitting of the dataset\n",
    "train_dist = y_train.value_counts() / len(y_train) #normalize absolute count values for plotting\n",
    "test_dist = y_test.value_counts() / len(y_test)\n",
    "df_dist = df['response'].value_counts() / len(df)\n",
    "\n",
    "fig, ax = plt.subplots()\n",
    "\n",
    "ax.barh(['Test','Train','df'], [test_dist[0], train_dist[0], df_dist[0]], color='#1f77b4', label='bad credit')\n",
    "ax.barh(['Test','Train','df'], [test_dist[1], train_dist[1], df_dist[1]], left=[test_dist[0], train_dist[0], df_dist[0]], color='#ff7f0e', label='good credit')\n",
    "ax.set_title('Split visualization')\n",
    "ax.legend(loc='upper left')\n",
    "plt.xlabel('Proportion')\n",
    "plt.ylabel('Partition')\n",
    "\n",
    "#plot bar values\n",
    "for part, a, b in zip(['Test', 'Train','df'], [test_dist[0], train_dist[0], df_dist[0]], [test_dist[1], train_dist[1], df_dist[1]]):\n",
    "    plt.text(a/2, part, str(np.round(a, 2)))\n",
    "    plt.text(b/2+a, part, str(np.round(b, 2)));"
   ]
  },
  {
   "cell_type": "code",
   "execution_count": 64,
   "id": "572e6903",
   "metadata": {},
   "outputs": [
    {
     "data": {
      "text/html": [
       "<style>#sk-container-id-2 {color: black;background-color: white;}#sk-container-id-2 pre{padding: 0;}#sk-container-id-2 div.sk-toggleable {background-color: white;}#sk-container-id-2 label.sk-toggleable__label {cursor: pointer;display: block;width: 100%;margin-bottom: 0;padding: 0.3em;box-sizing: border-box;text-align: center;}#sk-container-id-2 label.sk-toggleable__label-arrow:before {content: \"▸\";float: left;margin-right: 0.25em;color: #696969;}#sk-container-id-2 label.sk-toggleable__label-arrow:hover:before {color: black;}#sk-container-id-2 div.sk-estimator:hover label.sk-toggleable__label-arrow:before {color: black;}#sk-container-id-2 div.sk-toggleable__content {max-height: 0;max-width: 0;overflow: hidden;text-align: left;background-color: #f0f8ff;}#sk-container-id-2 div.sk-toggleable__content pre {margin: 0.2em;color: black;border-radius: 0.25em;background-color: #f0f8ff;}#sk-container-id-2 input.sk-toggleable__control:checked~div.sk-toggleable__content {max-height: 200px;max-width: 100%;overflow: auto;}#sk-container-id-2 input.sk-toggleable__control:checked~label.sk-toggleable__label-arrow:before {content: \"▾\";}#sk-container-id-2 div.sk-estimator input.sk-toggleable__control:checked~label.sk-toggleable__label {background-color: #d4ebff;}#sk-container-id-2 div.sk-label input.sk-toggleable__control:checked~label.sk-toggleable__label {background-color: #d4ebff;}#sk-container-id-2 input.sk-hidden--visually {border: 0;clip: rect(1px 1px 1px 1px);clip: rect(1px, 1px, 1px, 1px);height: 1px;margin: -1px;overflow: hidden;padding: 0;position: absolute;width: 1px;}#sk-container-id-2 div.sk-estimator {font-family: monospace;background-color: #f0f8ff;border: 1px dotted black;border-radius: 0.25em;box-sizing: border-box;margin-bottom: 0.5em;}#sk-container-id-2 div.sk-estimator:hover {background-color: #d4ebff;}#sk-container-id-2 div.sk-parallel-item::after {content: \"\";width: 100%;border-bottom: 1px solid gray;flex-grow: 1;}#sk-container-id-2 div.sk-label:hover label.sk-toggleable__label {background-color: #d4ebff;}#sk-container-id-2 div.sk-serial::before {content: \"\";position: absolute;border-left: 1px solid gray;box-sizing: border-box;top: 0;bottom: 0;left: 50%;z-index: 0;}#sk-container-id-2 div.sk-serial {display: flex;flex-direction: column;align-items: center;background-color: white;padding-right: 0.2em;padding-left: 0.2em;position: relative;}#sk-container-id-2 div.sk-item {position: relative;z-index: 1;}#sk-container-id-2 div.sk-parallel {display: flex;align-items: stretch;justify-content: center;background-color: white;position: relative;}#sk-container-id-2 div.sk-item::before, #sk-container-id-2 div.sk-parallel-item::before {content: \"\";position: absolute;border-left: 1px solid gray;box-sizing: border-box;top: 0;bottom: 0;left: 50%;z-index: -1;}#sk-container-id-2 div.sk-parallel-item {display: flex;flex-direction: column;z-index: 1;position: relative;background-color: white;}#sk-container-id-2 div.sk-parallel-item:first-child::after {align-self: flex-end;width: 50%;}#sk-container-id-2 div.sk-parallel-item:last-child::after {align-self: flex-start;width: 50%;}#sk-container-id-2 div.sk-parallel-item:only-child::after {width: 0;}#sk-container-id-2 div.sk-dashed-wrapped {border: 1px dashed gray;margin: 0 0.4em 0.5em 0.4em;box-sizing: border-box;padding-bottom: 0.4em;background-color: white;}#sk-container-id-2 div.sk-label label {font-family: monospace;font-weight: bold;display: inline-block;line-height: 1.2em;}#sk-container-id-2 div.sk-label-container {text-align: center;}#sk-container-id-2 div.sk-container {/* jupyter's `normalize.less` sets `[hidden] { display: none; }` but bootstrap.min.css set `[hidden] { display: none !important; }` so we also need the `!important` here to be able to override the default hidden behavior on the sphinx rendered scikit-learn.org. See: https://github.com/scikit-learn/scikit-learn/issues/21755 */display: inline-block !important;position: relative;}#sk-container-id-2 div.sk-text-repr-fallback {display: none;}</style><div id=\"sk-container-id-2\" class=\"sk-top-container\"><div class=\"sk-text-repr-fallback\"><pre>DecisionTreeClassifier(max_depth=3, min_samples_leaf=3, random_state=100)</pre><b>In a Jupyter environment, please rerun this cell to show the HTML representation or trust the notebook. <br />On GitHub, the HTML representation is unable to render, please try loading this page with nbviewer.org.</b></div><div class=\"sk-container\" hidden><div class=\"sk-item\"><div class=\"sk-estimator sk-toggleable\"><input class=\"sk-toggleable__control sk-hidden--visually\" id=\"sk-estimator-id-2\" type=\"checkbox\" checked><label for=\"sk-estimator-id-2\" class=\"sk-toggleable__label sk-toggleable__label-arrow\">DecisionTreeClassifier</label><div class=\"sk-toggleable__content\"><pre>DecisionTreeClassifier(max_depth=3, min_samples_leaf=3, random_state=100)</pre></div></div></div></div></div>"
      ],
      "text/plain": [
       "DecisionTreeClassifier(max_depth=3, min_samples_leaf=3, random_state=100)"
      ]
     },
     "execution_count": 64,
     "metadata": {},
     "output_type": "execute_result"
    }
   ],
   "source": [
    "#Define Decision tree classifier with some default parameters\n",
    "clf = tree.DecisionTreeClassifier(criterion = \"gini\", random_state = 100,\n",
    "                               max_depth=3, min_samples_leaf=3)\n",
    "\n",
    "#Fit the training data \n",
    "clf.fit(X_train, y_train)"
   ]
  },
  {
   "cell_type": "code",
   "execution_count": 65,
   "id": "a674332e",
   "metadata": {},
   "outputs": [],
   "source": [
    "#Use classifier to predict labels\n",
    "y_pred = clf.predict(X_test)"
   ]
  },
  {
   "cell_type": "code",
   "execution_count": 66,
   "id": "d33151b2",
   "metadata": {},
   "outputs": [],
   "source": [
    "#probabilities\n",
    "y_pred_probs = clf.predict_proba(X_test)"
   ]
  },
  {
   "cell_type": "code",
   "execution_count": 67,
   "id": "c111d6bf",
   "metadata": {},
   "outputs": [],
   "source": [
    "importances = clf.feature_importances_\n",
    "indices = np.argsort(importances)[::-1]\n",
    "feature_order = np.array([X.columns.values])\n",
    "i = np.argsort(importances)[::-1]\n",
    "feature_order = feature_order[:,i]"
   ]
  },
  {
   "cell_type": "code",
   "execution_count": 68,
   "id": "e58521f9",
   "metadata": {},
   "outputs": [
    {
     "data": {
      "image/png": "[encoded data removed]",
      "text/plain": [
       "<Figure size 432x288 with 1 Axes>"
      ]
     },
     "metadata": {
      "needs_background": "light"
     },
     "output_type": "display_data"
    }
   ],
   "source": [
    "# Print the feature ranking\n",
    "# Plot the feature importances of the forest\n",
    "plt.figure()\n",
    "plt.title(\"Relative feature importances\")\n",
    "plt.bar(range(X.shape[1]), importances[indices],\n",
    "       color=\"b\",  align=\"center\")\n",
    "plt.xticks(range(X.shape[1]), feature_order[0], rotation=90)\n",
    "plt.xlim([-1, X.shape[1]])\n",
    "plt.show()"
   ]
  },
  {
   "cell_type": "markdown",
   "id": "58e6db6b",
   "metadata": {},
   "source": [
    "# 5. Model evaluation"
   ]
  },
  {
   "cell_type": "code",
   "execution_count": 69,
   "id": "edb437ac",
   "metadata": {},
   "outputs": [
    {
     "name": "stdout",
     "output_type": "stream",
     "text": [
      "The accuracy of the model is:  69.67\n"
     ]
    }
   ],
   "source": [
    "print (\"The accuracy of the model is: \", (accuracy_score(y_test,y_pred)*100).round(2))\n",
    "# The model is almost 70% of the time accurate in differentiating customers' credit types"
   ]
  },
  {
   "cell_type": "markdown",
   "id": "425f591e",
   "metadata": {},
   "source": [
    "# 6. Re-balance data using SMOTE"
   ]
  },
  {
   "cell_type": "code",
   "execution_count": 70,
   "id": "6b3b3261",
   "metadata": {},
   "outputs": [
    {
     "name": "stdout",
     "output_type": "stream",
     "text": [
      "Requirement already satisfied: imbalanced-learn in ./opt/anaconda3/lib/python3.8/site-packages (0.9.1)\n",
      "Requirement already satisfied: numpy>=1.17.3 in ./opt/anaconda3/lib/python3.8/site-packages (from imbalanced-learn) (1.21.2)\n",
      "Requirement already satisfied: scipy>=1.3.2 in ./opt/anaconda3/lib/python3.8/site-packages (from imbalanced-learn) (1.6.2)\n",
      "Requirement already satisfied: scikit-learn>=1.1.0 in ./opt/anaconda3/lib/python3.8/site-packages (from imbalanced-learn) (1.1.2)\n",
      "Requirement already satisfied: joblib>=1.0.0 in ./opt/anaconda3/lib/python3.8/site-packages (from imbalanced-learn) (1.0.1)\n",
      "Requirement already satisfied: threadpoolctl>=2.0.0 in ./opt/anaconda3/lib/python3.8/site-packages (from imbalanced-learn) (2.1.0)\n",
      "Note: you may need to restart the kernel to use updated packages.\n"
     ]
    }
   ],
   "source": [
    "# install the imblearn.over_sampling library\n",
    "%pip install imbalanced-learn"
   ]
  },
  {
   "cell_type": "code",
   "execution_count": 71,
   "id": "21ca5e5a",
   "metadata": {},
   "outputs": [],
   "source": [
    "#import the SMOTE functiom\n",
    "from imblearn.over_sampling import SMOTE "
   ]
  },
  {
   "cell_type": "code",
   "execution_count": 72,
   "id": "c1e56544",
   "metadata": {},
   "outputs": [],
   "source": [
    "smote = SMOTE(sampling_strategy='minority')\n",
    "X_sm, y_sm = smote.fit_resample(X_train, y_train)"
   ]
  },
  {
   "cell_type": "code",
   "execution_count": 73,
   "id": "b3a1ee1d",
   "metadata": {},
   "outputs": [
    {
     "data": {
      "image/png": "[encoded data removed]",
      "text/plain": [
       "<Figure size 432x288 with 1 Axes>"
      ]
     },
     "metadata": {
      "needs_background": "light"
     },
     "output_type": "display_data"
    }
   ],
   "source": [
    "#making sure that the data has been re-balanced\n",
    "train_dist = y_train.value_counts() / len(y_train) #normalize absolute count values for plotting\n",
    "test_dist = y_test.value_counts() / len(y_test)\n",
    "data_dist = y.value_counts() / len(y)\n",
    "smote_dist = pd.Series(y_sm).value_counts() / len(pd.Series(y_sm))\n",
    "\n",
    "fig, ax = plt.subplots()\n",
    "\n",
    "ax.barh(['X_train (SMOTE)','Test','Train','Data'], [smote_dist[0], test_dist[0], train_dist[0], data_dist[0]], color='#1f77b4', label='1 (yes)')\n",
    "ax.barh(['X_train (SMOTE)','Test','Train','Data'], [smote_dist[1], test_dist[1], train_dist[1], data_dist[1]], left=[smote_dist[0], test_dist[0], train_dist[0], data_dist[0]], color='#ff7f0e', label='0 (no)')\n",
    "ax.set_title('Split visualization')\n",
    "ax.legend(loc='upper left')\n",
    "plt.xlabel('Proportion')\n",
    "plt.ylabel('Partition')\n",
    "\n",
    "#plot bar values\n",
    "for part, a, b in zip(['X_train (SMOTE)', 'Test', 'Train','Data'], [smote_dist[0], test_dist[0], train_dist[0], data_dist[0]], [smote_dist[1], test_dist[1], train_dist[1], data_dist[1]]):\n",
    "    plt.text(a/2, part, str(np.round(a, 2)))\n",
    "    plt.text(b/2+a, part, str(np.round(b, 2)));"
   ]
  },
  {
   "cell_type": "markdown",
   "id": "7481bce9",
   "metadata": {},
   "source": [
    "# 7. Build second decision tree model and confusion matrix"
   ]
  },
  {
   "cell_type": "code",
   "execution_count": 74,
   "id": "fa020aa7",
   "metadata": {},
   "outputs": [],
   "source": [
    "#import necessary libraries\n",
    "from sklearn.svm import SVC\n",
    "from sklearn.linear_model import LogisticRegression"
   ]
  },
  {
   "cell_type": "code",
   "execution_count": 86,
   "id": "a30a9973",
   "metadata": {},
   "outputs": [],
   "source": [
    "#this is for the imbalanced data\n",
    "clf.fit(X_sm, y_sm) \n",
    "y_pred_sm = clf.predict(X_test)"
   ]
  },
  {
   "cell_type": "code",
   "execution_count": 87,
   "id": "33d82dc6",
   "metadata": {},
   "outputs": [
    {
     "name": "stdout",
     "output_type": "stream",
     "text": [
      "The accuracy of the model is:  67.67\n"
     ]
    }
   ],
   "source": [
    "print (\"The accuracy of the model is: \", (accuracy_score(y_test,y_pred_sm)*100).round(2))"
   ]
  },
  {
   "cell_type": "code",
   "execution_count": 88,
   "id": "45720abd",
   "metadata": {},
   "outputs": [],
   "source": [
    "y_pred_sm_probs = clf.predict_proba(X_test)"
   ]
  },
  {
   "cell_type": "code",
   "execution_count": 89,
   "id": "89de28e6",
   "metadata": {},
   "outputs": [],
   "source": [
    "### 1. Confusion Matrix\n",
    "\n",
    "def plot_confusion_matrix(cm, classes,\n",
    "                          normalize=False,\n",
    "                          title='Confusion matrix',\n",
    "                          cmap=plt.cm.Blues):\n",
    "    \"\"\"\n",
    "    This function prints and plots the confusion matrix.\n",
    "    Normalization can be applied by setting `normalize=True`.\n",
    "    \"\"\"\n",
    "    if normalize:\n",
    "        cm = cm.astype('float') / cm.sum(axis=1)[:, np.newaxis]\n",
    "        #print(\"Normalized confusion matrix\")\n",
    "    #else:\n",
    "    #    print('Confusion matrix, without normalization')\n",
    "\n",
    "    #print(cm)\n",
    "\n",
    "    plt.imshow(cm, interpolation='nearest', cmap=cmap)\n",
    "    plt.title(title)\n",
    "    plt.colorbar()\n",
    "    tick_marks = np.arange(len(classes))\n",
    "    plt.xticks(tick_marks, classes, rotation=45)\n",
    "    plt.yticks(tick_marks, classes)\n",
    "\n",
    "    fmt = '.2f' if normalize else 'd'\n",
    "    thresh = cm.max() / 2.\n",
    "    for i, j in itertools.product(range(cm.shape[0]), range(cm.shape[1])):\n",
    "        plt.text(j, i, format(cm[i, j], fmt),\n",
    "                 horizontalalignment=\"center\",\n",
    "                 color=\"white\" if cm[i, j] > thresh else \"black\")\n",
    "\n",
    "    plt.tight_layout()\n",
    "    plt.ylim([1.5, -0.5]) #added to fix a bug that causes the matrix to be squished\n",
    "    plt.ylabel('True label')\n",
    "    plt.xlabel('Predicted label')"
   ]
  },
  {
   "cell_type": "code",
   "execution_count": 90,
   "id": "e4bb607e",
   "metadata": {},
   "outputs": [
    {
     "data": {
      "image/png": "[encoded data removed]",
      "text/plain": [
       "<Figure size 936x360 with 4 Axes>"
      ]
     },
     "metadata": {
      "needs_background": "light"
     },
     "output_type": "display_data"
    },
    {
     "data": {
      "image/png": "[encoded data removed]",
      "text/plain": [
       "<Figure size 936x360 with 4 Axes>"
      ]
     },
     "metadata": {
      "needs_background": "light"
     },
     "output_type": "display_data"
    }
   ],
   "source": [
    "# Compute confusion matrix\n",
    "class_names = ['no fraud', 'fraud']\n",
    "cnf_matrix_imb = confusion_matrix(y_test, y_pred)\n",
    "cnf_matrix_bal = confusion_matrix(y_test, y_pred_sm)\n",
    "\n",
    "np.set_printoptions(precision=2)\n",
    "\n",
    "\n",
    "plt.figure(figsize=(13, 5))\n",
    "plt.subplot(121) \n",
    "plot_confusion_matrix(cnf_matrix_imb, classes=class_names,\n",
    "                      title='Confusion matrix, without data rebalancing')\n",
    "\n",
    "plt.subplot(122) \n",
    "plot_confusion_matrix(cnf_matrix_imb, classes=class_names, normalize=True,\n",
    "                      title='Confusion matrix, without data rebalancing normalized')\n",
    "\n",
    "plt.figure(figsize=(13, 5))\n",
    "plt.subplot(121) \n",
    "plot_confusion_matrix(cnf_matrix_bal, classes=class_names,\n",
    "                      title='Confusion matrix, with data rebalancing')\n",
    "\n",
    "plt.subplot(122) \n",
    "plot_confusion_matrix(cnf_matrix_bal, classes=class_names, normalize=True,\n",
    "                      title='Confusion matrix, with data rebalancing normalized')\n",
    "\n",
    "\n",
    "plt.show()"
   ]
  },
  {
   "cell_type": "markdown",
   "id": "0b5ffd4a",
   "metadata": {},
   "source": [
    "# 8. Building a ROC chart"
   ]
  },
  {
   "cell_type": "code",
   "execution_count": 91,
   "id": "c20eefc4",
   "metadata": {},
   "outputs": [
    {
     "data": {
      "image/png": "[encoded data removed]",
      "text/plain": [
       "<Figure size 864x720 with 1 Axes>"
      ]
     },
     "metadata": {
      "needs_background": "light"
     },
     "output_type": "display_data"
    }
   ],
   "source": [
    "### 2. ROC and AUC\n",
    "plt.figure(figsize=(12,10))\n",
    "\n",
    "for test, pred, name in zip([y_test, y_test, y_test], [y_pred_sm_probs[:,1], y_pred_probs[:,1]], ['Decision tree balanced (SMOTE)', 'Desicion tree unbalanced']):\n",
    "    fpr, tpr, _ = roc_curve(test, pred)\n",
    "    roc_auc = auc(fpr, tpr)\n",
    "    plt.plot(fpr, tpr, label='{}: AUC = {}'.format(name, round(roc_auc, 3)))\n",
    "    plt.legend(loc='best')\n",
    "    plt.plot([0,1],[0,1],color='black', linestyle='--')\n",
    "\n",
    "plt.title('ROC curve (Receiver Operating Characteristic)')    \n",
    "plt.ylabel('True Positive Rate (TPR)')\n",
    "plt.xlabel('False Positive Rate (FPR)')\n",
    "\n",
    "plt.show()\n"
   ]
  }
 ],
 "metadata": {
  "kernelspec": {
   "display_name": "Python 3",
   "language": "python",
   "name": "python3"
  },
  "language_info": {
   "codemirror_mode": {
    "name": "ipython",
    "version": 3
   },
   "file_extension": ".py",
   "mimetype": "text/x-python",
   "name": "python",
   "nbconvert_exporter": "python",
   "pygments_lexer": "ipython3",
   "version": "3.8.8"
  }
 },
 "nbformat": 4,
 "nbformat_minor": 5
}
