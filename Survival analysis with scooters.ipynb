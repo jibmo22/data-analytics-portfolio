{
 "cells": [
  {
   "cell_type": "markdown",
   "id": "7ef4b45c",
   "metadata": {},
   "source": [
    "# Business problem description:\n",
    "\n",
    "## The Better Scooter Company is an electric scooter rental sharing company. The company is seeking ways how they can improve their profitability. One effective way of doing so is via reducing repair costs associated with scooters.\n",
    "\n",
    "## To solve this business problem, survival and exploratory analysis will be carried out to gain useful insights that the Better Scooter Company can benefit from. "
   ]
  },
  {
   "attachments": {
    "image.png": {
     "image/png": "[encoded data removed]"
    }
   },
   "cell_type": "markdown",
   "id": "b2a1cf72",
   "metadata": {},
   "source": [
    "![image.png](attachment:image.png)"
   ]
  },
  {
   "cell_type": "markdown",
   "id": "8a6316c8",
   "metadata": {},
   "source": [
    "##  Description of the columns in our data:\n",
    "\n",
    "1) **id(int)**: Identification number of scooter\n",
    "\n",
    "2) **tte(float)**: Time to event(in hours) that scooter needed repair in if it broke down or if it didn't the time when the data was extracted\n",
    "\n",
    "3) **need_repair(binary)**: Event, True= the scooter was repaired\n",
    "\n",
    "4) **usage_length_days(float)**: Number of days that a scooter has been in use\n",
    "\n",
    "5) **manufactor(categorical)**: Manufacturer of the scooter (A, B or C)\n",
    "\n",
    "6) **avg_complains(float)**: Average number of complains in last three months\n",
    "\n",
    "7) **riding miles(float)**: Accumulated riding miles of a scooter"
   ]
  },
  {
   "cell_type": "markdown",
   "id": "2f153451",
   "metadata": {},
   "source": [
    "## 1. Import necessary packages & load data "
   ]
  },
  {
   "cell_type": "code",
   "execution_count": 129,
   "id": "3e8e4caf",
   "metadata": {},
   "outputs": [],
   "source": [
    "#import necessary packages\n",
    "import sksurv\n",
    "import numpy as np\n",
    "import pandas as pd\n",
    "import random\n",
    "from sklearn.model_selection import train_test_split\n",
    "import seaborn as sn\n",
    "import matplotlib.pyplot as plt\n",
    "%matplotlib inline\n",
    "from sksurv.datasets import get_x_y\n",
    "from sksurv.util import Surv\n",
    "from sksurv.nonparametric import kaplan_meier_estimator\n",
    "from sksurv.compare import compare_survival\n",
    "from sklearn.pipeline import make_pipeline\n",
    "from sksurv.linear_model import CoxPHSurvivalAnalysis\n",
    "from sksurv.metrics import concordance_index_censored"
   ]
  },
  {
   "cell_type": "code",
   "execution_count": 130,
   "id": "8ed93690",
   "metadata": {},
   "outputs": [
    {
     "data": {
      "text/html": [
       "<div>\n",
       "<style scoped>\n",
       "    .dataframe tbody tr th:only-of-type {\n",
       "        vertical-align: middle;\n",
       "    }\n",
       "\n",
       "    .dataframe tbody tr th {\n",
       "        vertical-align: top;\n",
       "    }\n",
       "\n",
       "    .dataframe thead th {\n",
       "        text-align: right;\n",
       "    }\n",
       "</style>\n",
       "<table border=\"1\" class=\"dataframe\">\n",
       "  <thead>\n",
       "    <tr style=\"text-align: right;\">\n",
       "      <th></th>\n",
       "      <th>id</th>\n",
       "      <th>tte</th>\n",
       "      <th>need_repair</th>\n",
       "      <th>usage_length_days</th>\n",
       "      <th>manufactor</th>\n",
       "      <th>avg_complains</th>\n",
       "      <th>ride_miles</th>\n",
       "    </tr>\n",
       "  </thead>\n",
       "  <tbody>\n",
       "    <tr>\n",
       "      <th>0</th>\n",
       "      <td>1</td>\n",
       "      <td>57.0</td>\n",
       "      <td>True</td>\n",
       "      <td>58.766838</td>\n",
       "      <td>C</td>\n",
       "      <td>21.3</td>\n",
       "      <td>6.2</td>\n",
       "    </tr>\n",
       "    <tr>\n",
       "      <th>1</th>\n",
       "      <td>2</td>\n",
       "      <td>736.0</td>\n",
       "      <td>False</td>\n",
       "      <td>56.447815</td>\n",
       "      <td>C</td>\n",
       "      <td>4.6</td>\n",
       "      <td>88.0</td>\n",
       "    </tr>\n",
       "    <tr>\n",
       "      <th>2</th>\n",
       "      <td>3</td>\n",
       "      <td>145.0</td>\n",
       "      <td>True</td>\n",
       "      <td>70.074472</td>\n",
       "      <td>B</td>\n",
       "      <td>1.8</td>\n",
       "      <td>88.4</td>\n",
       "    </tr>\n",
       "    <tr>\n",
       "      <th>3</th>\n",
       "      <td>4</td>\n",
       "      <td>275.0</td>\n",
       "      <td>True</td>\n",
       "      <td>54.742087</td>\n",
       "      <td>C</td>\n",
       "      <td>5.3</td>\n",
       "      <td>131.8</td>\n",
       "    </tr>\n",
       "    <tr>\n",
       "      <th>4</th>\n",
       "      <td>6</td>\n",
       "      <td>357.0</td>\n",
       "      <td>True</td>\n",
       "      <td>66.260541</td>\n",
       "      <td>A</td>\n",
       "      <td>0.7</td>\n",
       "      <td>60.0</td>\n",
       "    </tr>\n",
       "  </tbody>\n",
       "</table>\n",
       "</div>"
      ],
      "text/plain": [
       "   id    tte  need_repair  usage_length_days manufactor  avg_complains  \\\n",
       "0   1   57.0         True          58.766838          C           21.3   \n",
       "1   2  736.0        False          56.447815          C            4.6   \n",
       "2   3  145.0         True          70.074472          B            1.8   \n",
       "3   4  275.0         True          54.742087          C            5.3   \n",
       "4   6  357.0         True          66.260541          A            0.7   \n",
       "\n",
       "   ride_miles  \n",
       "0         6.2  \n",
       "1        88.0  \n",
       "2        88.4  \n",
       "3       131.8  \n",
       "4        60.0  "
      ]
     },
     "execution_count": 130,
     "metadata": {},
     "output_type": "execute_result"
    }
   ],
   "source": [
    "#load data and see 1st 5 rows of the dataframe\n",
    "df = pd.read_csv('cleaned_better_scooter.csv')\n",
    "df.head()"
   ]
  },
  {
   "cell_type": "markdown",
   "id": "cc9fb9ef",
   "metadata": {},
   "source": [
    "## 2. Exploratory analysis & data cleaning"
   ]
  },
  {
   "cell_type": "code",
   "execution_count": 131,
   "id": "1f94c39c",
   "metadata": {},
   "outputs": [
    {
     "data": {
      "text/plain": [
       "(283, 7)"
      ]
     },
     "execution_count": 131,
     "metadata": {},
     "output_type": "execute_result"
    }
   ],
   "source": [
    "#explore the shape of the dataframe\n",
    "df.shape"
   ]
  },
  {
   "cell_type": "code",
   "execution_count": 132,
   "id": "0fa94c03",
   "metadata": {},
   "outputs": [
    {
     "name": "stdout",
     "output_type": "stream",
     "text": [
      "<class 'pandas.core.frame.DataFrame'>\n",
      "RangeIndex: 283 entries, 0 to 282\n",
      "Data columns (total 7 columns):\n",
      " #   Column             Non-Null Count  Dtype  \n",
      "---  ------             --------------  -----  \n",
      " 0   id                 283 non-null    int64  \n",
      " 1   tte                283 non-null    float64\n",
      " 2   need_repair        283 non-null    bool   \n",
      " 3   usage_length_days  283 non-null    float64\n",
      " 4   manufactor         283 non-null    object \n",
      " 5   avg_complains      283 non-null    float64\n",
      " 6   ride_miles         283 non-null    float64\n",
      "dtypes: bool(1), float64(4), int64(1), object(1)\n",
      "memory usage: 13.7+ KB\n"
     ]
    }
   ],
   "source": [
    "#explore data types and missing values\n",
    "df.info()"
   ]
  },
  {
   "cell_type": "code",
   "execution_count": 133,
   "id": "d5ac753f",
   "metadata": {},
   "outputs": [
    {
     "data": {
      "text/plain": [
       "283"
      ]
     },
     "execution_count": 133,
     "metadata": {},
     "output_type": "execute_result"
    }
   ],
   "source": [
    "#check for duplicate values\n",
    "df['id'].nunique()"
   ]
  },
  {
   "cell_type": "code",
   "execution_count": 134,
   "id": "4c627833",
   "metadata": {},
   "outputs": [
    {
     "data": {
      "text/html": [
       "<div>\n",
       "<style scoped>\n",
       "    .dataframe tbody tr th:only-of-type {\n",
       "        vertical-align: middle;\n",
       "    }\n",
       "\n",
       "    .dataframe tbody tr th {\n",
       "        vertical-align: top;\n",
       "    }\n",
       "\n",
       "    .dataframe thead th {\n",
       "        text-align: right;\n",
       "    }\n",
       "</style>\n",
       "<table border=\"1\" class=\"dataframe\">\n",
       "  <thead>\n",
       "    <tr style=\"text-align: right;\">\n",
       "      <th></th>\n",
       "      <th>count</th>\n",
       "      <th>mean</th>\n",
       "      <th>std</th>\n",
       "      <th>min</th>\n",
       "      <th>25%</th>\n",
       "      <th>50%</th>\n",
       "      <th>75%</th>\n",
       "      <th>max</th>\n",
       "    </tr>\n",
       "  </thead>\n",
       "  <tbody>\n",
       "    <tr>\n",
       "      <th>id</th>\n",
       "      <td>283.0</td>\n",
       "      <td>150.0</td>\n",
       "      <td>89.0</td>\n",
       "      <td>1.0</td>\n",
       "      <td>72.0</td>\n",
       "      <td>148.0</td>\n",
       "      <td>222.0</td>\n",
       "      <td>312.0</td>\n",
       "    </tr>\n",
       "    <tr>\n",
       "      <th>tte</th>\n",
       "      <td>283.0</td>\n",
       "      <td>343.0</td>\n",
       "      <td>190.0</td>\n",
       "      <td>6.0</td>\n",
       "      <td>198.0</td>\n",
       "      <td>342.0</td>\n",
       "      <td>473.0</td>\n",
       "      <td>744.0</td>\n",
       "    </tr>\n",
       "    <tr>\n",
       "      <th>usage_length_days</th>\n",
       "      <td>283.0</td>\n",
       "      <td>51.0</td>\n",
       "      <td>10.0</td>\n",
       "      <td>29.0</td>\n",
       "      <td>44.0</td>\n",
       "      <td>51.0</td>\n",
       "      <td>58.0</td>\n",
       "      <td>78.0</td>\n",
       "    </tr>\n",
       "    <tr>\n",
       "      <th>avg_complains</th>\n",
       "      <td>283.0</td>\n",
       "      <td>7.0</td>\n",
       "      <td>8.0</td>\n",
       "      <td>0.0</td>\n",
       "      <td>1.0</td>\n",
       "      <td>2.0</td>\n",
       "      <td>11.0</td>\n",
       "      <td>41.0</td>\n",
       "    </tr>\n",
       "    <tr>\n",
       "      <th>ride_miles</th>\n",
       "      <td>283.0</td>\n",
       "      <td>127.0</td>\n",
       "      <td>93.0</td>\n",
       "      <td>6.0</td>\n",
       "      <td>71.0</td>\n",
       "      <td>113.0</td>\n",
       "      <td>160.0</td>\n",
       "      <td>1205.0</td>\n",
       "    </tr>\n",
       "  </tbody>\n",
       "</table>\n",
       "</div>"
      ],
      "text/plain": [
       "                   count   mean    std   min    25%    50%    75%     max\n",
       "id                 283.0  150.0   89.0   1.0   72.0  148.0  222.0   312.0\n",
       "tte                283.0  343.0  190.0   6.0  198.0  342.0  473.0   744.0\n",
       "usage_length_days  283.0   51.0   10.0  29.0   44.0   51.0   58.0    78.0\n",
       "avg_complains      283.0    7.0    8.0   0.0    1.0    2.0   11.0    41.0\n",
       "ride_miles         283.0  127.0   93.0   6.0   71.0  113.0  160.0  1205.0"
      ]
     },
     "execution_count": 134,
     "metadata": {},
     "output_type": "execute_result"
    }
   ],
   "source": [
    "#summarize basic statistics for all the numerical variables\n",
    "df.describe().round().transpose()"
   ]
  },
  {
   "cell_type": "markdown",
   "id": "31d40a4d",
   "metadata": {},
   "source": [
    "<span style=\"color:red\">There are not any missing values and duplicate values. Therefore, no further actions are needed for data cleaning  </span>"
   ]
  },
  {
   "cell_type": "markdown",
   "id": "a9431d45",
   "metadata": {},
   "source": [
    "## 3. Plot visualisations"
   ]
  },
  {
   "cell_type": "code",
   "execution_count": 135,
   "id": "045ec8c6",
   "metadata": {},
   "outputs": [
    {
     "data": {
      "text/plain": [
       "Text(0.5, 1.0, 'Correlation between variables')"
      ]
     },
     "execution_count": 135,
     "metadata": {},
     "output_type": "execute_result"
    },
    {
     "data": {
      "image/png": "[encoded data removed]",
      "text/plain": [
       "<Figure size 432x288 with 2 Axes>"
      ]
     },
     "metadata": {
      "needs_background": "light"
     },
     "output_type": "display_data"
    }
   ],
   "source": [
    "#explore correlation between numerical variables using heatmap\n",
    "#id column has been excluded since it is just an observation\n",
    "variables_heatmap = df[['tte', 'usage_length_days', 'avg_complains', 'ride_miles']]\n",
    "sn.heatmap(variables_heatmap.corr(),annot=True, cmap = \"YlGnBu\").set_title('Correlation between variables')"
   ]
  },
  {
   "cell_type": "code",
   "execution_count": 136,
   "id": "b9fa9c63",
   "metadata": {},
   "outputs": [
    {
     "data": {
      "image/png": "[encoded data removed]",
      "text/plain": [
       "<Figure size 432x288 with 1 Axes>"
      ]
     },
     "metadata": {
      "needs_background": "light"
     },
     "output_type": "display_data"
    }
   ],
   "source": [
    "#explore the number of scooters and group them by manufacturer\n",
    "scooter_counts = sn.countplot(x=df['manufactor'], data=df);\n",
    "for scooter in scooter_counts.patches:\n",
    "    scooter_counts.annotate(f'\\n{scooter.get_height()}', (scooter.get_x()+0.2, scooter.get_height()), ha='center', va='top', color='white', size=24)"
   ]
  },
  {
   "cell_type": "code",
   "execution_count": 137,
   "id": "78500263",
   "metadata": {},
   "outputs": [
    {
     "data": {
      "text/plain": [
       "<AxesSubplot:title={'center':'Scooters need to be repaired by manufacturer'}, xlabel='Needed repair', ylabel='Count'>"
      ]
     },
     "execution_count": 137,
     "metadata": {},
     "output_type": "execute_result"
    },
    {
     "data": {
      "image/png": "[encoded data removed]",
      "text/plain": [
       "<Figure size 432x288 with 1 Axes>"
      ]
     },
     "metadata": {
      "needs_background": "light"
     },
     "output_type": "display_data"
    }
   ],
   "source": [
    "#explore the need to repair a scooter and group them manufacturer\n",
    "need_to_repair = df.groupby(['need_repair', 'manufactor'])['manufactor'].count().unstack().plot.bar()\n",
    "need_to_repair.set_xlabel(\"Needed repair\")\n",
    "need_to_repair.set_ylabel(\"Count\")\n",
    "need_to_repair.set_title(\"Scooters need to be repaired by manufacturer\")\n",
    "need_to_repair"
   ]
  },
  {
   "cell_type": "code",
   "execution_count": 138,
   "id": "4b5b84b1",
   "metadata": {},
   "outputs": [
    {
     "data": {
      "image/png": "[encoded data removed]",
      "text/plain": [
       "<Figure size 720x360 with 1 Axes>"
      ]
     },
     "metadata": {
      "needs_background": "light"
     },
     "output_type": "display_data"
    }
   ],
   "source": [
    "#explore the relationship between time to event(scooter failure) and potential need for repair distribution\n",
    "ax = df['tte'].loc[df['need_repair'] == True].plot.hist(bins=10, label='repaired', figsize = (10,5))\n",
    "ax = df['tte'].loc[df['need_repair'] == False].plot.hist(bins=10, label='not repaired')\n",
    "ax.set_xlabel('Time(days) till scooter failure')\n",
    "ax.set_title('Relative days to scooter failure distribution')\n",
    "ax.legend();"
   ]
  },
  {
   "cell_type": "markdown",
   "id": "d5235368",
   "metadata": {},
   "source": [
    "### 3.1 Insights from the visualisations\n",
    "\n",
    "#### -Of the 283 scooters owned by the Better Scooter Company majority(150) of them are manufactured by company A\n",
    "#### -Scooters by company A also appear to be the most durable, where as the ones by company C are the least durable\n",
    "#### -The scooters that have not been repaired before start to break down after roughly 200 days, whereas the ones that have been fixed before might begin to do so within a few days"
   ]
  },
  {
   "cell_type": "markdown",
   "id": "562ec8af",
   "metadata": {},
   "source": [
    "## 4. Survival analysis"
   ]
  },
  {
   "cell_type": "code",
   "execution_count": 139,
   "id": "7d94433a",
   "metadata": {},
   "outputs": [
    {
     "data": {
      "text/plain": [
       "Text(0.5, 0, 'time $t(hours)$')"
      ]
     },
     "execution_count": 139,
     "metadata": {},
     "output_type": "execute_result"
    },
    {
     "data": {
      "image/png": "[encoded data removed]",
      "text/plain": [
       "<Figure size 432x288 with 1 Axes>"
      ]
     },
     "metadata": {
      "needs_background": "light"
     },
     "output_type": "display_data"
    }
   ],
   "source": [
    "#creating the survival function with Kaplan-Meier(KM) estimator for the scooters\n",
    "#plot KM curve\n",
    "time, survival_prob = kaplan_meier_estimator(df[\"need_repair\"], df[\"tte\"])\n",
    "plt.step(time, survival_prob, where=\"post\")\n",
    "plt.ylabel(\"est. probability of survival $\\hat{S}(t)$\")\n",
    "plt.xlabel(\"time $t(hours)$\")"
   ]
  },
  {
   "cell_type": "code",
   "execution_count": 140,
   "id": "7616cb97",
   "metadata": {},
   "outputs": [
    {
     "data": {
      "text/plain": [
       "<matplotlib.legend.Legend at 0x7fc043989160>"
      ]
     },
     "execution_count": 140,
     "metadata": {},
     "output_type": "execute_result"
    },
    {
     "data": {
      "image/png": "[encoded data removed]",
      "text/plain": [
       "<Figure size 432x288 with 1 Axes>"
      ]
     },
     "metadata": {
      "needs_background": "light"
     },
     "output_type": "display_data"
    }
   ],
   "source": [
    "##creating the survival function with Kaplan-Meier(KM) estimator for each scooter maker\n",
    "#plot KM curve for each scooter maker\n",
    "for maker in (\"A\", \"B\", \"C\"):\n",
    "    makerer = df[\"manufactor\"] == maker\n",
    "    time_failure, survival_prob = kaplan_meier_estimator(\n",
    "        df[\"need_repair\"][makerer],\n",
    "        df[\"tte\"][makerer])\n",
    "\n",
    "    plt.step(time_failure, survival_prob, where=\"post\",\n",
    "             label=\"Manufacturer = %s\" % maker)\n",
    "\n",
    "plt.ylabel(\"est. probability of survival $\\hat{S}(t)$\")\n",
    "plt.xlabel(\"time $t(hours)$\")\n",
    "plt.legend(loc=\"best\")"
   ]
  },
  {
   "cell_type": "markdown",
   "id": "eae8418d",
   "metadata": {},
   "source": [
    "### 4.1 Insights from the KM estimators\n",
    "\n",
    "#### -Scooters by manufacturer A appear to have clearly the best odds of survival(not breaking down). From instance, \n",
    "#### -On the other hand, scooters by manufacturer C appear to have clearly the highest odds of breaking down"
   ]
  },
  {
   "cell_type": "markdown",
   "id": "16d92618",
   "metadata": {},
   "source": [
    "## 5. Log-rank test - continuation for part 4 "
   ]
  },
  {
   "cell_type": "code",
   "execution_count": 141,
   "id": "325b0ccd",
   "metadata": {},
   "outputs": [
    {
     "name": "stdout",
     "output_type": "stream",
     "text": [
      "\n",
      "======== features for survival analysis ========\n",
      "    id  usage_length_days manufactor  avg_complains  ride_miles\n",
      "0   1          58.766838          C           21.3         6.2\n",
      "1   2          56.447815          C            4.6        88.0\n",
      "2   3          70.074472          B            1.8        88.4\n",
      "3   4          54.742087          C            5.3       131.8\n",
      "4   6          66.260541          A            0.7        60.0\n",
      "5   7          55.536086          A            1.4        54.0\n",
      "6   8          53.058263          B            5.4       120.9\n",
      "7   9          42.509035          C           14.8       221.7\n",
      "8  10          70.561822          C           12.6       147.3\n",
      "9  11          53.715365          C            9.6       121.0\n",
      "\n",
      "======== labels for survival analysis ========\n",
      " [( True,  57.) (False, 736.) ( True, 145.) ( True, 275.) ( True, 357.)\n",
      " (False, 357.) ( True, 352.) ( True, 342.) ( True,   8.) ( True, 536.)]\n"
     ]
    }
   ],
   "source": [
    "#make structured array for the log-rank test\n",
    "#divide the data into features and labels\n",
    "surv_features, surv_labels_df = get_x_y(df, ['need_repair','tte'],survival = False)\n",
    "surv_labels = Surv.from_dataframe('need_repair','tte',surv_labels_df)\n",
    "print('\\n======== features for survival analysis ========\\n', surv_features[:10])\n",
    "print('\\n======== labels for survival analysis ========\\n',surv_labels[:10])"
   ]
  },
  {
   "cell_type": "code",
   "execution_count": 142,
   "id": "6bc0da1a",
   "metadata": {},
   "outputs": [
    {
     "data": {
      "text/plain": [
       "(61.06160595176763,\n",
       " 5.503522413332893e-14,\n",
       "        counts  observed   expected  statistic\n",
       " group                                        \n",
       " A         150        43  82.781297 -39.781297\n",
       " B          69        41  32.419593   8.580407\n",
       " C          64        56  24.799110  31.200890,\n",
       " array([[ 33.61122521, -19.07233748, -14.53888773],\n",
       "        [-19.07233748,  24.83097546,  -5.75863798],\n",
       "        [-14.53888773,  -5.75863798,  20.29752571]]))"
      ]
     },
     "execution_count": 142,
     "metadata": {},
     "output_type": "execute_result"
    }
   ],
   "source": [
    "#perform  the log-rank test  \n",
    "group_indicator = df['manufactor']\n",
    "chisq, pvalue, stats, covar = compare_survival(surv_labels, group_indicator, return_stats=True)\n",
    "chisq, pvalue, stats, covar"
   ]
  },
  {
   "cell_type": "markdown",
   "id": "f162fdc8",
   "metadata": {},
   "source": [
    "### 5.1 Insights from the log-rank test\n",
    "\n",
    "#### -P-value is 5.503522413332893e-14, which further validates that the manufacturer of a scooter has an influence on whether the tte variable would materialize\n",
    "#### -This finding is also in alignment with the findings made by the km estimators"
   ]
  },
  {
   "cell_type": "markdown",
   "id": "eac32557",
   "metadata": {},
   "source": [
    "## 6. CoxnetSurvivalAnalysis"
   ]
  },
  {
   "cell_type": "code",
   "execution_count": 143,
   "id": "c53a1cfe",
   "metadata": {},
   "outputs": [
    {
     "data": {
      "text/html": [
       "<div>\n",
       "<style scoped>\n",
       "    .dataframe tbody tr th:only-of-type {\n",
       "        vertical-align: middle;\n",
       "    }\n",
       "\n",
       "    .dataframe tbody tr th {\n",
       "        vertical-align: top;\n",
       "    }\n",
       "\n",
       "    .dataframe thead th {\n",
       "        text-align: right;\n",
       "    }\n",
       "</style>\n",
       "<table border=\"1\" class=\"dataframe\">\n",
       "  <thead>\n",
       "    <tr style=\"text-align: right;\">\n",
       "      <th></th>\n",
       "      <th>tte</th>\n",
       "      <th>need_repair</th>\n",
       "      <th>usage_length_days</th>\n",
       "      <th>avg_complains</th>\n",
       "      <th>ride_miles</th>\n",
       "      <th>manufactor_A</th>\n",
       "      <th>manufactor_B</th>\n",
       "      <th>manufactor_C</th>\n",
       "    </tr>\n",
       "  </thead>\n",
       "  <tbody>\n",
       "    <tr>\n",
       "      <th>0</th>\n",
       "      <td>57.0</td>\n",
       "      <td>True</td>\n",
       "      <td>58.766838</td>\n",
       "      <td>21.3</td>\n",
       "      <td>6.2</td>\n",
       "      <td>0</td>\n",
       "      <td>0</td>\n",
       "      <td>1</td>\n",
       "    </tr>\n",
       "    <tr>\n",
       "      <th>1</th>\n",
       "      <td>736.0</td>\n",
       "      <td>False</td>\n",
       "      <td>56.447815</td>\n",
       "      <td>4.6</td>\n",
       "      <td>88.0</td>\n",
       "      <td>0</td>\n",
       "      <td>0</td>\n",
       "      <td>1</td>\n",
       "    </tr>\n",
       "    <tr>\n",
       "      <th>2</th>\n",
       "      <td>145.0</td>\n",
       "      <td>True</td>\n",
       "      <td>70.074472</td>\n",
       "      <td>1.8</td>\n",
       "      <td>88.4</td>\n",
       "      <td>0</td>\n",
       "      <td>1</td>\n",
       "      <td>0</td>\n",
       "    </tr>\n",
       "    <tr>\n",
       "      <th>3</th>\n",
       "      <td>275.0</td>\n",
       "      <td>True</td>\n",
       "      <td>54.742087</td>\n",
       "      <td>5.3</td>\n",
       "      <td>131.8</td>\n",
       "      <td>0</td>\n",
       "      <td>0</td>\n",
       "      <td>1</td>\n",
       "    </tr>\n",
       "    <tr>\n",
       "      <th>4</th>\n",
       "      <td>357.0</td>\n",
       "      <td>True</td>\n",
       "      <td>66.260541</td>\n",
       "      <td>0.7</td>\n",
       "      <td>60.0</td>\n",
       "      <td>1</td>\n",
       "      <td>0</td>\n",
       "      <td>0</td>\n",
       "    </tr>\n",
       "  </tbody>\n",
       "</table>\n",
       "</div>"
      ],
      "text/plain": [
       "     tte  need_repair  usage_length_days  avg_complains  ride_miles  \\\n",
       "0   57.0         True          58.766838           21.3         6.2   \n",
       "1  736.0        False          56.447815            4.6        88.0   \n",
       "2  145.0         True          70.074472            1.8        88.4   \n",
       "3  275.0         True          54.742087            5.3       131.8   \n",
       "4  357.0         True          66.260541            0.7        60.0   \n",
       "\n",
       "   manufactor_A  manufactor_B  manufactor_C  \n",
       "0             0             0             1  \n",
       "1             0             0             1  \n",
       "2             0             1             0  \n",
       "3             0             0             1  \n",
       "4             1             0             0  "
      ]
     },
     "execution_count": 143,
     "metadata": {},
     "output_type": "execute_result"
    }
   ],
   "source": [
    "#make copy of the scooter data\n",
    "#drop unwanted column(s)\n",
    "#create dummy variables  \n",
    "features_to_drop = ['id']\n",
    "df2 = df.drop(features_to_drop, axis=1).copy()\n",
    "dummies = pd.get_dummies(df2.manufactor)\n",
    "df2 = pd.concat([df2, dummies], axis=1)\n",
    "df2 = df2.drop(['manufactor'], axis=1)\n",
    "df2.rename(columns = {'A':'manufactor_A', 'B':'manufactor_B',\n",
    "                              'C':'manufactor_C'}, inplace = True)\n",
    "df2.head()"
   ]
  },
  {
   "cell_type": "code",
   "execution_count": 144,
   "id": "12622c33",
   "metadata": {},
   "outputs": [],
   "source": [
    "#split data into target and feature matrices\n",
    "surv_features, surv_labels_df = get_x_y(df2, ['need_repair','tte'],survival = False)\n",
    "surv_labels = Surv.from_dataframe('need_repair','tte',surv_labels_df)"
   ]
  },
  {
   "cell_type": "code",
   "execution_count": 146,
   "id": "f8207753",
   "metadata": {},
   "outputs": [
    {
     "name": "stderr",
     "output_type": "stream",
     "text": [
      "/Users/mj/opt/anaconda3/lib/python3.8/site-packages/sksurv/linear_model/coxph.py:445: LinAlgWarning: Ill-conditioned matrix (rcond=1.40344e-21): result may not be accurate.\n",
      "  delta = solve(optimizer.hessian, optimizer.gradient,\n",
      "/Users/mj/opt/anaconda3/lib/python3.8/site-packages/sksurv/linear_model/coxph.py:445: LinAlgWarning: Ill-conditioned matrix (rcond=4.13914e-22): result may not be accurate.\n",
      "  delta = solve(optimizer.hessian, optimizer.gradient,\n",
      "/Users/mj/opt/anaconda3/lib/python3.8/site-packages/sksurv/linear_model/coxph.py:445: LinAlgWarning: Ill-conditioned matrix (rcond=3.27159e-21): result may not be accurate.\n",
      "  delta = solve(optimizer.hessian, optimizer.gradient,\n",
      "/Users/mj/opt/anaconda3/lib/python3.8/site-packages/sksurv/linear_model/coxph.py:445: LinAlgWarning: Ill-conditioned matrix (rcond=2.56027e-21): result may not be accurate.\n",
      "  delta = solve(optimizer.hessian, optimizer.gradient,\n",
      "/Users/mj/opt/anaconda3/lib/python3.8/site-packages/sksurv/linear_model/coxph.py:445: LinAlgWarning: Ill-conditioned matrix (rcond=1.70759e-21): result may not be accurate.\n",
      "  delta = solve(optimizer.hessian, optimizer.gradient,\n"
     ]
    },
    {
     "data": {
      "text/html": [
       "<style>#sk-container-id-3 {color: black;background-color: white;}#sk-container-id-3 pre{padding: 0;}#sk-container-id-3 div.sk-toggleable {background-color: white;}#sk-container-id-3 label.sk-toggleable__label {cursor: pointer;display: block;width: 100%;margin-bottom: 0;padding: 0.3em;box-sizing: border-box;text-align: center;}#sk-container-id-3 label.sk-toggleable__label-arrow:before {content: \"▸\";float: left;margin-right: 0.25em;color: #696969;}#sk-container-id-3 label.sk-toggleable__label-arrow:hover:before {color: black;}#sk-container-id-3 div.sk-estimator:hover label.sk-toggleable__label-arrow:before {color: black;}#sk-container-id-3 div.sk-toggleable__content {max-height: 0;max-width: 0;overflow: hidden;text-align: left;background-color: #f0f8ff;}#sk-container-id-3 div.sk-toggleable__content pre {margin: 0.2em;color: black;border-radius: 0.25em;background-color: #f0f8ff;}#sk-container-id-3 input.sk-toggleable__control:checked~div.sk-toggleable__content {max-height: 200px;max-width: 100%;overflow: auto;}#sk-container-id-3 input.sk-toggleable__control:checked~label.sk-toggleable__label-arrow:before {content: \"▾\";}#sk-container-id-3 div.sk-estimator input.sk-toggleable__control:checked~label.sk-toggleable__label {background-color: #d4ebff;}#sk-container-id-3 div.sk-label input.sk-toggleable__control:checked~label.sk-toggleable__label {background-color: #d4ebff;}#sk-container-id-3 input.sk-hidden--visually {border: 0;clip: rect(1px 1px 1px 1px);clip: rect(1px, 1px, 1px, 1px);height: 1px;margin: -1px;overflow: hidden;padding: 0;position: absolute;width: 1px;}#sk-container-id-3 div.sk-estimator {font-family: monospace;background-color: #f0f8ff;border: 1px dotted black;border-radius: 0.25em;box-sizing: border-box;margin-bottom: 0.5em;}#sk-container-id-3 div.sk-estimator:hover {background-color: #d4ebff;}#sk-container-id-3 div.sk-parallel-item::after {content: \"\";width: 100%;border-bottom: 1px solid gray;flex-grow: 1;}#sk-container-id-3 div.sk-label:hover label.sk-toggleable__label {background-color: #d4ebff;}#sk-container-id-3 div.sk-serial::before {content: \"\";position: absolute;border-left: 1px solid gray;box-sizing: border-box;top: 0;bottom: 0;left: 50%;z-index: 0;}#sk-container-id-3 div.sk-serial {display: flex;flex-direction: column;align-items: center;background-color: white;padding-right: 0.2em;padding-left: 0.2em;position: relative;}#sk-container-id-3 div.sk-item {position: relative;z-index: 1;}#sk-container-id-3 div.sk-parallel {display: flex;align-items: stretch;justify-content: center;background-color: white;position: relative;}#sk-container-id-3 div.sk-item::before, #sk-container-id-3 div.sk-parallel-item::before {content: \"\";position: absolute;border-left: 1px solid gray;box-sizing: border-box;top: 0;bottom: 0;left: 50%;z-index: -1;}#sk-container-id-3 div.sk-parallel-item {display: flex;flex-direction: column;z-index: 1;position: relative;background-color: white;}#sk-container-id-3 div.sk-parallel-item:first-child::after {align-self: flex-end;width: 50%;}#sk-container-id-3 div.sk-parallel-item:last-child::after {align-self: flex-start;width: 50%;}#sk-container-id-3 div.sk-parallel-item:only-child::after {width: 0;}#sk-container-id-3 div.sk-dashed-wrapped {border: 1px dashed gray;margin: 0 0.4em 0.5em 0.4em;box-sizing: border-box;padding-bottom: 0.4em;background-color: white;}#sk-container-id-3 div.sk-label label {font-family: monospace;font-weight: bold;display: inline-block;line-height: 1.2em;}#sk-container-id-3 div.sk-label-container {text-align: center;}#sk-container-id-3 div.sk-container {/* jupyter's `normalize.less` sets `[hidden] { display: none; }` but bootstrap.min.css set `[hidden] { display: none !important; }` so we also need the `!important` here to be able to override the default hidden behavior on the sphinx rendered scikit-learn.org. See: https://github.com/scikit-learn/scikit-learn/issues/21755 */display: inline-block !important;position: relative;}#sk-container-id-3 div.sk-text-repr-fallback {display: none;}</style><div id=\"sk-container-id-3\" class=\"sk-top-container\"><div class=\"sk-text-repr-fallback\"><pre>CoxPHSurvivalAnalysis()</pre><b>In a Jupyter environment, please rerun this cell to show the HTML representation or trust the notebook. <br />On GitHub, the HTML representation is unable to render, please try loading this page with nbviewer.org.</b></div><div class=\"sk-container\" hidden><div class=\"sk-item\"><div class=\"sk-estimator sk-toggleable\"><input class=\"sk-toggleable__control sk-hidden--visually\" id=\"sk-estimator-id-4\" type=\"checkbox\" checked><label for=\"sk-estimator-id-4\" class=\"sk-toggleable__label sk-toggleable__label-arrow\">CoxPHSurvivalAnalysis</label><div class=\"sk-toggleable__content\"><pre>CoxPHSurvivalAnalysis()</pre></div></div></div></div></div>"
      ],
      "text/plain": [
       "CoxPHSurvivalAnalysis()"
      ]
     },
     "execution_count": 146,
     "metadata": {},
     "output_type": "execute_result"
    }
   ],
   "source": [
    "#deploy model and fit it\n",
    "estimator = CoxPHSurvivalAnalysis()\n",
    "estimator.fit(surv_features, surv_labels)"
   ]
  },
  {
   "cell_type": "code",
   "execution_count": 147,
   "id": "70ae8052",
   "metadata": {},
   "outputs": [
    {
     "data": {
      "text/plain": [
       "0.7758132154595943"
      ]
     },
     "execution_count": 147,
     "metadata": {},
     "output_type": "execute_result"
    }
   ],
   "source": [
    "# c-index score (used to measure the accuracy of the model)\n",
    "c_index_score = estimator.score(surv_features, surv_labels)\n",
    "c_index_score"
   ]
  },
  {
   "cell_type": "code",
   "execution_count": 148,
   "id": "ebfd422a",
   "metadata": {},
   "outputs": [
    {
     "data": {
      "text/plain": [
       "avg_complains        0.765329\n",
       "ride_miles           0.684612\n",
       "manufactor_A         0.636008\n",
       "manufactor_C         0.612981\n",
       "usage_length_days    0.608108\n",
       "manufactor_B         0.523027\n",
       "dtype: float64"
      ]
     },
     "execution_count": 148,
     "metadata": {},
     "output_type": "execute_result"
    }
   ],
   "source": [
    "#compute the most predictive features\n",
    "def fit_and_score_features(X, y):\n",
    "    n_features = X.shape[1]\n",
    "    scores = np.empty(n_features)\n",
    "    m = CoxPHSurvivalAnalysis()\n",
    "    for j in range(n_features):\n",
    "        Xj = X[:, j:j+1]\n",
    "        m.fit(Xj, y)\n",
    "        scores[j] = m.score(Xj, y)\n",
    "    return scores\n",
    "\n",
    "scores = fit_and_score_features(surv_features.values, surv_labels)\n",
    "pd.Series(scores, index=surv_features.columns).sort_values(ascending=False)"
   ]
  },
  {
   "cell_type": "markdown",
   "id": "b53055f4",
   "metadata": {},
   "source": [
    "### 6.1 Insights from the CoxnetSurvivalAnalysis\n",
    "\n",
    "#### -Our model performs quite well, but is not perfect\n",
    "#### -The two most predictive variables were ride_miles and avg_complains"
   ]
  },
  {
   "cell_type": "markdown",
   "id": "efbecdea",
   "metadata": {},
   "source": [
    "## 7. Building a predictive model using synthetic data"
   ]
  },
  {
   "cell_type": "code",
   "execution_count": 152,
   "id": "eb414039",
   "metadata": {},
   "outputs": [
    {
     "data": {
      "text/html": [
       "<div>\n",
       "<style scoped>\n",
       "    .dataframe tbody tr th:only-of-type {\n",
       "        vertical-align: middle;\n",
       "    }\n",
       "\n",
       "    .dataframe tbody tr th {\n",
       "        vertical-align: top;\n",
       "    }\n",
       "\n",
       "    .dataframe thead th {\n",
       "        text-align: right;\n",
       "    }\n",
       "</style>\n",
       "<table border=\"1\" class=\"dataframe\">\n",
       "  <thead>\n",
       "    <tr style=\"text-align: right;\">\n",
       "      <th></th>\n",
       "      <th>id</th>\n",
       "      <th>usage_length_days</th>\n",
       "      <th>avg_complains</th>\n",
       "      <th>ride_miles</th>\n",
       "      <th>manufactor_A</th>\n",
       "      <th>manufactor_B</th>\n",
       "      <th>manufactor_C</th>\n",
       "    </tr>\n",
       "  </thead>\n",
       "  <tbody>\n",
       "    <tr>\n",
       "      <th>0</th>\n",
       "      <td>1</td>\n",
       "      <td>56.447815</td>\n",
       "      <td>4.6</td>\n",
       "      <td>88.0</td>\n",
       "      <td>0</td>\n",
       "      <td>0</td>\n",
       "      <td>1</td>\n",
       "    </tr>\n",
       "    <tr>\n",
       "      <th>1</th>\n",
       "      <td>2</td>\n",
       "      <td>55.536086</td>\n",
       "      <td>1.4</td>\n",
       "      <td>54.0</td>\n",
       "      <td>1</td>\n",
       "      <td>0</td>\n",
       "      <td>0</td>\n",
       "    </tr>\n",
       "    <tr>\n",
       "      <th>2</th>\n",
       "      <td>3</td>\n",
       "      <td>53.058263</td>\n",
       "      <td>5.4</td>\n",
       "      <td>120.9</td>\n",
       "      <td>0</td>\n",
       "      <td>1</td>\n",
       "      <td>0</td>\n",
       "    </tr>\n",
       "    <tr>\n",
       "      <th>3</th>\n",
       "      <td>4</td>\n",
       "      <td>45.690505</td>\n",
       "      <td>1.2</td>\n",
       "      <td>72.0</td>\n",
       "      <td>1</td>\n",
       "      <td>0</td>\n",
       "      <td>0</td>\n",
       "    </tr>\n",
       "    <tr>\n",
       "      <th>4</th>\n",
       "      <td>5</td>\n",
       "      <td>64.647903</td>\n",
       "      <td>11.4</td>\n",
       "      <td>114.0</td>\n",
       "      <td>0</td>\n",
       "      <td>0</td>\n",
       "      <td>1</td>\n",
       "    </tr>\n",
       "    <tr>\n",
       "      <th>5</th>\n",
       "      <td>6</td>\n",
       "      <td>64.190669</td>\n",
       "      <td>7.8</td>\n",
       "      <td>73.0</td>\n",
       "      <td>0</td>\n",
       "      <td>0</td>\n",
       "      <td>1</td>\n",
       "    </tr>\n",
       "    <tr>\n",
       "      <th>6</th>\n",
       "      <td>7</td>\n",
       "      <td>52.026065</td>\n",
       "      <td>16.2</td>\n",
       "      <td>241.0</td>\n",
       "      <td>0</td>\n",
       "      <td>0</td>\n",
       "      <td>1</td>\n",
       "    </tr>\n",
       "    <tr>\n",
       "      <th>7</th>\n",
       "      <td>8</td>\n",
       "      <td>60.538276</td>\n",
       "      <td>11.4</td>\n",
       "      <td>246.0</td>\n",
       "      <td>0</td>\n",
       "      <td>1</td>\n",
       "      <td>0</td>\n",
       "    </tr>\n",
       "    <tr>\n",
       "      <th>8</th>\n",
       "      <td>9</td>\n",
       "      <td>45.211368</td>\n",
       "      <td>0.9</td>\n",
       "      <td>89.0</td>\n",
       "      <td>1</td>\n",
       "      <td>0</td>\n",
       "      <td>0</td>\n",
       "    </tr>\n",
       "    <tr>\n",
       "      <th>9</th>\n",
       "      <td>10</td>\n",
       "      <td>60.661483</td>\n",
       "      <td>2.1</td>\n",
       "      <td>98.0</td>\n",
       "      <td>0</td>\n",
       "      <td>0</td>\n",
       "      <td>1</td>\n",
       "    </tr>\n",
       "  </tbody>\n",
       "</table>\n",
       "</div>"
      ],
      "text/plain": [
       "   id  usage_length_days  avg_complains  ride_miles  manufactor_A  \\\n",
       "0   1          56.447815            4.6        88.0             0   \n",
       "1   2          55.536086            1.4        54.0             1   \n",
       "2   3          53.058263            5.4       120.9             0   \n",
       "3   4          45.690505            1.2        72.0             1   \n",
       "4   5          64.647903           11.4       114.0             0   \n",
       "5   6          64.190669            7.8        73.0             0   \n",
       "6   7          52.026065           16.2       241.0             0   \n",
       "7   8          60.538276           11.4       246.0             0   \n",
       "8   9          45.211368            0.9        89.0             1   \n",
       "9  10          60.661483            2.1        98.0             0   \n",
       "\n",
       "   manufactor_B  manufactor_C  \n",
       "0             0             1  \n",
       "1             0             0  \n",
       "2             1             0  \n",
       "3             0             0  \n",
       "4             0             1  \n",
       "5             0             1  \n",
       "6             0             1  \n",
       "7             1             0  \n",
       "8             0             0  \n",
       "9             0             1  "
      ]
     },
     "execution_count": 152,
     "metadata": {},
     "output_type": "execute_result"
    }
   ],
   "source": [
    "#load the synthetic data\n",
    "#see all the rows in the data (has only 10 different scooters)\n",
    "synthetic_data = pd.read_csv('ten_scooters.csv')\n",
    "synthetic_data"
   ]
  },
  {
   "cell_type": "code",
   "execution_count": 158,
   "id": "9c2aaedb",
   "metadata": {},
   "outputs": [],
   "source": [
    "#manipulate the dataframe to dictionary\n",
    "x_new = synthetic_data.set_index(synthetic_data[\"id\"]).drop(columns=[\"id\"]).to_dict(\"index\")"
   ]
  },
  {
   "cell_type": "code",
   "execution_count": 151,
   "id": "5b28d5d5",
   "metadata": {},
   "outputs": [
    {
     "data": {
      "text/html": [
       "<div>\n",
       "<style scoped>\n",
       "    .dataframe tbody tr th:only-of-type {\n",
       "        vertical-align: middle;\n",
       "    }\n",
       "\n",
       "    .dataframe tbody tr th {\n",
       "        vertical-align: top;\n",
       "    }\n",
       "\n",
       "    .dataframe thead th {\n",
       "        text-align: right;\n",
       "    }\n",
       "</style>\n",
       "<table border=\"1\" class=\"dataframe\">\n",
       "  <thead>\n",
       "    <tr style=\"text-align: right;\">\n",
       "      <th></th>\n",
       "      <th>1</th>\n",
       "      <th>2</th>\n",
       "      <th>3</th>\n",
       "      <th>4</th>\n",
       "      <th>5</th>\n",
       "      <th>6</th>\n",
       "      <th>7</th>\n",
       "      <th>8</th>\n",
       "      <th>9</th>\n",
       "      <th>10</th>\n",
       "    </tr>\n",
       "  </thead>\n",
       "  <tbody>\n",
       "    <tr>\n",
       "      <th>usage_length_days</th>\n",
       "      <td>56.447815</td>\n",
       "      <td>55.536086</td>\n",
       "      <td>53.058263</td>\n",
       "      <td>45.690505</td>\n",
       "      <td>64.647903</td>\n",
       "      <td>64.190669</td>\n",
       "      <td>52.026065</td>\n",
       "      <td>60.538276</td>\n",
       "      <td>45.211368</td>\n",
       "      <td>60.661483</td>\n",
       "    </tr>\n",
       "    <tr>\n",
       "      <th>avg_complains</th>\n",
       "      <td>4.600000</td>\n",
       "      <td>1.400000</td>\n",
       "      <td>5.400000</td>\n",
       "      <td>1.200000</td>\n",
       "      <td>11.400000</td>\n",
       "      <td>7.800000</td>\n",
       "      <td>16.200000</td>\n",
       "      <td>11.400000</td>\n",
       "      <td>0.900000</td>\n",
       "      <td>2.100000</td>\n",
       "    </tr>\n",
       "    <tr>\n",
       "      <th>ride_miles</th>\n",
       "      <td>88.000000</td>\n",
       "      <td>54.000000</td>\n",
       "      <td>120.900000</td>\n",
       "      <td>72.000000</td>\n",
       "      <td>114.000000</td>\n",
       "      <td>73.000000</td>\n",
       "      <td>241.000000</td>\n",
       "      <td>246.000000</td>\n",
       "      <td>89.000000</td>\n",
       "      <td>98.000000</td>\n",
       "    </tr>\n",
       "    <tr>\n",
       "      <th>manufactor_A</th>\n",
       "      <td>0.000000</td>\n",
       "      <td>1.000000</td>\n",
       "      <td>0.000000</td>\n",
       "      <td>1.000000</td>\n",
       "      <td>0.000000</td>\n",
       "      <td>0.000000</td>\n",
       "      <td>0.000000</td>\n",
       "      <td>0.000000</td>\n",
       "      <td>1.000000</td>\n",
       "      <td>0.000000</td>\n",
       "    </tr>\n",
       "    <tr>\n",
       "      <th>manufactor_B</th>\n",
       "      <td>0.000000</td>\n",
       "      <td>0.000000</td>\n",
       "      <td>1.000000</td>\n",
       "      <td>0.000000</td>\n",
       "      <td>0.000000</td>\n",
       "      <td>0.000000</td>\n",
       "      <td>0.000000</td>\n",
       "      <td>1.000000</td>\n",
       "      <td>0.000000</td>\n",
       "      <td>0.000000</td>\n",
       "    </tr>\n",
       "    <tr>\n",
       "      <th>manufactor_C</th>\n",
       "      <td>1.000000</td>\n",
       "      <td>0.000000</td>\n",
       "      <td>0.000000</td>\n",
       "      <td>0.000000</td>\n",
       "      <td>1.000000</td>\n",
       "      <td>1.000000</td>\n",
       "      <td>1.000000</td>\n",
       "      <td>0.000000</td>\n",
       "      <td>0.000000</td>\n",
       "      <td>1.000000</td>\n",
       "    </tr>\n",
       "  </tbody>\n",
       "</table>\n",
       "</div>"
      ],
      "text/plain": [
       "                          1          2           3          4           5   \\\n",
       "usage_length_days  56.447815  55.536086   53.058263  45.690505   64.647903   \n",
       "avg_complains       4.600000   1.400000    5.400000   1.200000   11.400000   \n",
       "ride_miles         88.000000  54.000000  120.900000  72.000000  114.000000   \n",
       "manufactor_A        0.000000   1.000000    0.000000   1.000000    0.000000   \n",
       "manufactor_B        0.000000   0.000000    1.000000   0.000000    0.000000   \n",
       "manufactor_C        1.000000   0.000000    0.000000   0.000000    1.000000   \n",
       "\n",
       "                          6           7           8          9          10  \n",
       "usage_length_days  64.190669   52.026065   60.538276  45.211368  60.661483  \n",
       "avg_complains       7.800000   16.200000   11.400000   0.900000   2.100000  \n",
       "ride_miles         73.000000  241.000000  246.000000  89.000000  98.000000  \n",
       "manufactor_A        0.000000    0.000000    0.000000   1.000000   0.000000  \n",
       "manufactor_B        0.000000    0.000000    1.000000   0.000000   0.000000  \n",
       "manufactor_C        1.000000    1.000000    0.000000   0.000000   1.000000  "
      ]
     },
     "execution_count": 151,
     "metadata": {},
     "output_type": "execute_result"
    }
   ],
   "source": [
    "#convert the dataframe back into normal dataframe\n",
    "x_new = pd.DataFrame.from_dict(x_new)\n",
    "x_new"
   ]
  },
  {
   "cell_type": "code",
   "execution_count": 156,
   "id": "7a7d9624",
   "metadata": {},
   "outputs": [
    {
     "name": "stderr",
     "output_type": "stream",
     "text": [
      "/Users/mj/opt/anaconda3/lib/python3.8/site-packages/sksurv/linear_model/coxph.py:445: LinAlgWarning: Ill-conditioned matrix (rcond=1.40344e-21): result may not be accurate.\n",
      "  delta = solve(optimizer.hessian, optimizer.gradient,\n",
      "/Users/mj/opt/anaconda3/lib/python3.8/site-packages/sksurv/linear_model/coxph.py:445: LinAlgWarning: Ill-conditioned matrix (rcond=4.13914e-22): result may not be accurate.\n",
      "  delta = solve(optimizer.hessian, optimizer.gradient,\n",
      "/Users/mj/opt/anaconda3/lib/python3.8/site-packages/sksurv/linear_model/coxph.py:445: LinAlgWarning: Ill-conditioned matrix (rcond=3.27159e-21): result may not be accurate.\n",
      "  delta = solve(optimizer.hessian, optimizer.gradient,\n",
      "/Users/mj/opt/anaconda3/lib/python3.8/site-packages/sksurv/linear_model/coxph.py:445: LinAlgWarning: Ill-conditioned matrix (rcond=2.56027e-21): result may not be accurate.\n",
      "  delta = solve(optimizer.hessian, optimizer.gradient,\n",
      "/Users/mj/opt/anaconda3/lib/python3.8/site-packages/sksurv/linear_model/coxph.py:445: LinAlgWarning: Ill-conditioned matrix (rcond=1.70759e-21): result may not be accurate.\n",
      "  delta = solve(optimizer.hessian, optimizer.gradient,\n"
     ]
    },
    {
     "data": {
      "text/html": [
       "<style>#sk-container-id-5 {color: black;background-color: white;}#sk-container-id-5 pre{padding: 0;}#sk-container-id-5 div.sk-toggleable {background-color: white;}#sk-container-id-5 label.sk-toggleable__label {cursor: pointer;display: block;width: 100%;margin-bottom: 0;padding: 0.3em;box-sizing: border-box;text-align: center;}#sk-container-id-5 label.sk-toggleable__label-arrow:before {content: \"▸\";float: left;margin-right: 0.25em;color: #696969;}#sk-container-id-5 label.sk-toggleable__label-arrow:hover:before {color: black;}#sk-container-id-5 div.sk-estimator:hover label.sk-toggleable__label-arrow:before {color: black;}#sk-container-id-5 div.sk-toggleable__content {max-height: 0;max-width: 0;overflow: hidden;text-align: left;background-color: #f0f8ff;}#sk-container-id-5 div.sk-toggleable__content pre {margin: 0.2em;color: black;border-radius: 0.25em;background-color: #f0f8ff;}#sk-container-id-5 input.sk-toggleable__control:checked~div.sk-toggleable__content {max-height: 200px;max-width: 100%;overflow: auto;}#sk-container-id-5 input.sk-toggleable__control:checked~label.sk-toggleable__label-arrow:before {content: \"▾\";}#sk-container-id-5 div.sk-estimator input.sk-toggleable__control:checked~label.sk-toggleable__label {background-color: #d4ebff;}#sk-container-id-5 div.sk-label input.sk-toggleable__control:checked~label.sk-toggleable__label {background-color: #d4ebff;}#sk-container-id-5 input.sk-hidden--visually {border: 0;clip: rect(1px 1px 1px 1px);clip: rect(1px, 1px, 1px, 1px);height: 1px;margin: -1px;overflow: hidden;padding: 0;position: absolute;width: 1px;}#sk-container-id-5 div.sk-estimator {font-family: monospace;background-color: #f0f8ff;border: 1px dotted black;border-radius: 0.25em;box-sizing: border-box;margin-bottom: 0.5em;}#sk-container-id-5 div.sk-estimator:hover {background-color: #d4ebff;}#sk-container-id-5 div.sk-parallel-item::after {content: \"\";width: 100%;border-bottom: 1px solid gray;flex-grow: 1;}#sk-container-id-5 div.sk-label:hover label.sk-toggleable__label {background-color: #d4ebff;}#sk-container-id-5 div.sk-serial::before {content: \"\";position: absolute;border-left: 1px solid gray;box-sizing: border-box;top: 0;bottom: 0;left: 50%;z-index: 0;}#sk-container-id-5 div.sk-serial {display: flex;flex-direction: column;align-items: center;background-color: white;padding-right: 0.2em;padding-left: 0.2em;position: relative;}#sk-container-id-5 div.sk-item {position: relative;z-index: 1;}#sk-container-id-5 div.sk-parallel {display: flex;align-items: stretch;justify-content: center;background-color: white;position: relative;}#sk-container-id-5 div.sk-item::before, #sk-container-id-5 div.sk-parallel-item::before {content: \"\";position: absolute;border-left: 1px solid gray;box-sizing: border-box;top: 0;bottom: 0;left: 50%;z-index: -1;}#sk-container-id-5 div.sk-parallel-item {display: flex;flex-direction: column;z-index: 1;position: relative;background-color: white;}#sk-container-id-5 div.sk-parallel-item:first-child::after {align-self: flex-end;width: 50%;}#sk-container-id-5 div.sk-parallel-item:last-child::after {align-self: flex-start;width: 50%;}#sk-container-id-5 div.sk-parallel-item:only-child::after {width: 0;}#sk-container-id-5 div.sk-dashed-wrapped {border: 1px dashed gray;margin: 0 0.4em 0.5em 0.4em;box-sizing: border-box;padding-bottom: 0.4em;background-color: white;}#sk-container-id-5 div.sk-label label {font-family: monospace;font-weight: bold;display: inline-block;line-height: 1.2em;}#sk-container-id-5 div.sk-label-container {text-align: center;}#sk-container-id-5 div.sk-container {/* jupyter's `normalize.less` sets `[hidden] { display: none; }` but bootstrap.min.css set `[hidden] { display: none !important; }` so we also need the `!important` here to be able to override the default hidden behavior on the sphinx rendered scikit-learn.org. See: https://github.com/scikit-learn/scikit-learn/issues/21755 */display: inline-block !important;position: relative;}#sk-container-id-5 div.sk-text-repr-fallback {display: none;}</style><div id=\"sk-container-id-5\" class=\"sk-top-container\"><div class=\"sk-text-repr-fallback\"><pre>CoxPHSurvivalAnalysis()</pre><b>In a Jupyter environment, please rerun this cell to show the HTML representation or trust the notebook. <br />On GitHub, the HTML representation is unable to render, please try loading this page with nbviewer.org.</b></div><div class=\"sk-container\" hidden><div class=\"sk-item\"><div class=\"sk-estimator sk-toggleable\"><input class=\"sk-toggleable__control sk-hidden--visually\" id=\"sk-estimator-id-6\" type=\"checkbox\" checked><label for=\"sk-estimator-id-6\" class=\"sk-toggleable__label sk-toggleable__label-arrow\">CoxPHSurvivalAnalysis</label><div class=\"sk-toggleable__content\"><pre>CoxPHSurvivalAnalysis()</pre></div></div></div></div></div>"
      ],
      "text/plain": [
       "CoxPHSurvivalAnalysis()"
      ]
     },
     "execution_count": 156,
     "metadata": {},
     "output_type": "execute_result"
    }
   ],
   "source": [
    "#deploy the predictive model and fit it\n",
    "estimator = CoxPHSurvivalAnalysis()\n",
    "estimator.fit(data_x, data_y)"
   ]
  },
  {
   "cell_type": "code",
   "execution_count": 157,
   "id": "ccd56fbb",
   "metadata": {},
   "outputs": [
    {
     "data": {
      "text/plain": [
       "<matplotlib.legend.Legend at 0x7fc0511886a0>"
      ]
     },
     "execution_count": 157,
     "metadata": {},
     "output_type": "execute_result"
    },
    {
     "data": {
      "image/png": "[encoded data removed]",
      "text/plain": [
       "<Figure size 432x288 with 1 Axes>"
      ]
     },
     "metadata": {
      "needs_background": "light"
     },
     "output_type": "display_data"
    }
   ],
   "source": [
    "#plot estimated survival functions for the ten scooters\n",
    "pred_surv = estimator.predict_survival_function(x_new)\n",
    "time_points = np.arange(6, 744)\n",
    "for i, surv_func in enumerate(pred_surv):\n",
    "    plt.step(time_points, surv_func(time_points), where=\"post\",\n",
    "             label=\"Scooter %d\" % (i + 1))\n",
    "plt.ylabel(\"est. probability of survival $\\hat{S}(t)$\")\n",
    "plt.xlabel(\"time $t$\")\n",
    "plt.legend(loc=\"best\")"
   ]
  },
  {
   "cell_type": "markdown",
   "id": "46629f63",
   "metadata": {},
   "source": [
    "### 7.1 Insights provided by the model\n",
    "\n",
    "#### -Scooters 2, 4, and 9 appear to have the best odds of survival compared to other scooters\n",
    "#### -These three scooters are all produced by company A, have the least avg_complains, and riding miles compared to the rest of the scooters"
   ]
  },
  {
   "cell_type": "markdown",
   "id": "9d28a1ed",
   "metadata": {},
   "source": [
    "## 8. Recommendations for the Better Scooter Company based on our analyses"
   ]
  },
  {
   "cell_type": "markdown",
   "id": "fd651d7e",
   "metadata": {},
   "source": [
    "### -Prefer/favor scooters made by company A, as our analyses showcased that they are the most durable ones\n",
    "### -Speak and gather feedback from customers once scooters starts to accumulate noticeable number of complaints, as it has an influence on when a scooter might start to break down and needs a fix\n",
    "### -Service/maintain scooters more often once they start to accumulate noticeable number of riding miles, since riding miles has an influence on when a scooter might break down and needs a fix  "
   ]
  }
 ],
 "metadata": {
  "kernelspec": {
   "display_name": "Python 3",
   "language": "python",
   "name": "python3"
  },
  "language_info": {
   "codemirror_mode": {
    "name": "ipython",
    "version": 3
   },
   "file_extension": ".py",
   "mimetype": "text/x-python",
   "name": "python",
   "nbconvert_exporter": "python",
   "pygments_lexer": "ipython3",
   "version": "3.8.8"
  }
 },
 "nbformat": 4,
 "nbformat_minor": 5
}
